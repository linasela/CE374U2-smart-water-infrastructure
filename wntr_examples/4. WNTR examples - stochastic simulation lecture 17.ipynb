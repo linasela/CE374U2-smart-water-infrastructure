{
 "cells": [
  {
   "cell_type": "markdown",
   "metadata": {
    "id": "e9NshFAa2STs",
    "tags": []
   },
   "source": [
    "# WNTR Additional Examples\n",
    "Here, we will have a more advanced example, using WNTR to run a stochastic simulation\n",
    "\n"
   ]
  },
  {
   "cell_type": "markdown",
   "metadata": {
    "id": "7fzZqtMQ2STu",
    "tags": []
   },
   "source": [
    "## Imports\n",
    "Install and import WNTR and additional Python packages that are needed for the tutorial\n",
    "- Numpy is required to define comparison operators (i.e., np.greater) in queries\n",
    "- Matplotlib is required to create graphics"
   ]
  },
  {
   "cell_type": "markdown",
   "metadata": {
    "id": "Be4-QxaGThDi"
   },
   "source": [
    "## Note: Where you see a 💡, you need to fill in the code"
   ]
  },
  {
   "cell_type": "code",
   "execution_count": null,
   "metadata": {
    "executionInfo": {
     "elapsed": 7557,
     "status": "ok",
     "timestamp": 1761193437245,
     "user": {
      "displayName": "Isabel S Gonzalez-Garcia",
      "userId": "01238087311006006760"
     },
     "user_tz": 300
    },
    "id": "qdfD5eta2STv"
   },
   "outputs": [],
   "source": [
    "# Install required packages if not already available\n",
    "try:\n",
    "    import wntr\n",
    "except ImportError:\n",
    "    !pip install wntr\n",
    "    import wntr  # import again after installation"
   ]
  },
  {
   "cell_type": "code",
   "execution_count": null,
   "metadata": {
    "executionInfo": {
     "elapsed": 2,
     "status": "ok",
     "timestamp": 1761193466735,
     "user": {
      "displayName": "Isabel S Gonzalez-Garcia",
      "userId": "01238087311006006760"
     },
     "user_tz": 300
    },
    "id": "E4DQiXet2STy"
   },
   "outputs": [],
   "source": [
    "import numpy as np\n",
    "import matplotlib.pyplot as plt"
   ]
  },
  {
   "cell_type": "markdown",
   "metadata": {
    "id": "Ep3Iv6802STz"
   },
   "source": [
    "## Units\n",
    "WNTR uses **SI (International System) units (length in meters, time in seconds, mass in kilograms)**.  See https://usepa.github.io/WNTR/units.html for more details."
   ]
  },
  {
   "cell_type": "markdown",
   "metadata": {
    "id": "ukM_NZZO2ST0",
    "tags": []
   },
   "source": [
    "# Running a stochastic simulation\n",
    "Often, system conditions, such as consumer demands are dynamic and uncertain, requiring us to update simulations to account for these changes.\n",
    "In this example, we demonstrate how to model such uncertainty by randomly varying the demands and examining how this affects the tank water level.\n",
    "\n",
    "Main steps:\n",
    "1. Select a node of interest.\n",
    "2. Introduce random uncertainty in the demand, assuming a uniform distribution between 0.5 and 1.5 of the base demand.\n",
    "3. Run hydraulic simulations for both the original and modified demands.\n",
    "4. Plot the node demands and pressures, the tank water level, and the pump flow for comparison between the two conditions."
   ]
  },
  {
   "cell_type": "markdown",
   "metadata": {
    "id": "Ey_ryx-N2ST1"
   },
   "source": [
    "## Get node, tank, pump and run basic simulation"
   ]
  },
  {
   "cell_type": "code",
   "execution_count": null,
   "metadata": {
    "executionInfo": {
     "elapsed": 156,
     "status": "ok",
     "timestamp": 1761193515636,
     "user": {
      "displayName": "Isabel S Gonzalez-Garcia",
      "userId": "01238087311006006760"
     },
     "user_tz": 300
    },
    "id": "GuutAKGU2ST3"
   },
   "outputs": [],
   "source": [
    "# Import .inp and run simulation\n",
    "inp = '💡'                                 # remove this line if not running on colab\n",
    "wn = wntr.network.WaterNetworkModel(inp)\n",
    "sim = wntr.sim.EpanetSimulator(wn)\n",
    "results_base = sim.run_sim()               # this is the step that actually runs the simulation\n",
    "\n",
    "units = 15850.3 # cms to gpm"
   ]
  },
  {
   "cell_type": "code",
   "execution_count": null,
   "metadata": {
    "colab": {
     "base_uri": "https://localhost:8080/"
    },
    "executionInfo": {
     "elapsed": 15,
     "status": "ok",
     "timestamp": 1761193544457,
     "user": {
      "displayName": "Isabel S Gonzalez-Garcia",
      "userId": "01238087311006006760"
     },
     "user_tz": 300
    },
    "id": "mEM20kDh2ST4",
    "outputId": "c92ee4d0-f5c3-4c23-d816-377b257ce8ca"
   },
   "outputs": [],
   "source": [
    "# get all node names\n",
    "node_names = wn.junction_name_list\n",
    "print(node_names)"
   ]
  },
  {
   "cell_type": "code",
   "execution_count": null,
   "metadata": {
    "colab": {
     "base_uri": "https://localhost:8080/"
    },
    "executionInfo": {
     "elapsed": 38,
     "status": "ok",
     "timestamp": 1761193547922,
     "user": {
      "displayName": "Isabel S Gonzalez-Garcia",
      "userId": "01238087311006006760"
     },
     "user_tz": 300
    },
    "id": "7a9PekVG2ST8",
    "outputId": "6c35e90a-de83-4072-9451-c878b12b3edf"
   },
   "outputs": [],
   "source": [
    "# let's use junction 109 as an example\n",
    "idx = node_names.index('109') # find the index of '109'\n",
    "idx"
   ]
  },
  {
   "cell_type": "code",
   "execution_count": null,
   "metadata": {
    "colab": {
     "base_uri": "https://localhost:8080/"
    },
    "executionInfo": {
     "elapsed": 15663,
     "status": "ok",
     "timestamp": 1761193566873,
     "user": {
      "displayName": "Isabel S Gonzalez-Garcia",
      "userId": "01238087311006006760"
     },
     "user_tz": 300
    },
    "id": "ECwCV05PGGY-",
    "outputId": "3e022f8c-6690-4177-b209-5295d2ad4587"
   },
   "outputs": [],
   "source": [
    "# remove this line if not running on colab\n",
    "\n",
    "from google.colab import drive\n",
    "drive.mount('/content/drive')"
   ]
  },
  {
   "cell_type": "code",
   "execution_count": null,
   "metadata": {
    "colab": {
     "base_uri": "https://localhost:8080/"
    },
    "executionInfo": {
     "elapsed": 5,
     "status": "ok",
     "timestamp": 1761194221180,
     "user": {
      "displayName": "Isabel S Gonzalez-Garcia",
      "userId": "01238087311006006760"
     },
     "user_tz": 300
    },
    "id": "F0mRaRvM2ST_",
    "outputId": "dac24ed6-b135-4260-c95a-5df70204f3d6"
   },
   "outputs": [],
   "source": [
    "# select this node\n",
    "node = wn.get_node(node_names[idx])\n",
    "node"
   ]
  },
  {
   "cell_type": "code",
   "execution_count": null,
   "metadata": {
    "colab": {
     "base_uri": "https://localhost:8080/",
     "height": 35
    },
    "executionInfo": {
     "elapsed": 4,
     "status": "ok",
     "timestamp": 1761194221910,
     "user": {
      "displayName": "Isabel S Gonzalez-Garcia",
      "userId": "01238087311006006760"
     },
     "user_tz": 300
    },
    "id": "5SXRd0NZ2SUA",
    "outputId": "4fa2d6d9-15b1-4174-abb9-b7720cff85cb"
   },
   "outputs": [],
   "source": [
    "node.demand_timeseries_list[0].pattern_name"
   ]
  },
  {
   "cell_type": "code",
   "execution_count": null,
   "metadata": {
    "colab": {
     "base_uri": "https://localhost:8080/"
    },
    "executionInfo": {
     "elapsed": 8,
     "status": "ok",
     "timestamp": 1761194223038,
     "user": {
      "displayName": "Isabel S Gonzalez-Garcia",
      "userId": "01238087311006006760"
     },
     "user_tz": 300
    },
    "id": "NA5p237g2SUC",
    "outputId": "968b1454-7b4f-46ce-8467-c6f38d3fa41f"
   },
   "outputs": [],
   "source": [
    "# store node ID\n",
    "selected_node = node.name\n",
    "print(selected_node)"
   ]
  },
  {
   "cell_type": "code",
   "execution_count": null,
   "metadata": {
    "colab": {
     "base_uri": "https://localhost:8080/"
    },
    "executionInfo": {
     "elapsed": 17,
     "status": "ok",
     "timestamp": 1761173224695,
     "user": {
      "displayName": "Isabel S Gonzalez-Garcia",
      "userId": "01238087311006006760"
     },
     "user_tz": 300
    },
    "id": "V852xQ1Q2SUC",
    "outputId": "e0fe40c9-9e5a-4246-c532-e97683d8223e"
   },
   "outputs": [],
   "source": [
    "# get tank list\n",
    "print(\"Tank names\", 💡)\n",
    "\n",
    "# get pump list\n",
    "print(\"Pump names\", 💡)"
   ]
  },
  {
   "cell_type": "code",
   "execution_count": null,
   "metadata": {
    "colab": {
     "base_uri": "https://localhost:8080/",
     "height": 35
    },
    "executionInfo": {
     "elapsed": 13,
     "status": "ok",
     "timestamp": 1761173225917,
     "user": {
      "displayName": "Isabel S Gonzalez-Garcia",
      "userId": "01238087311006006760"
     },
     "user_tz": 300
    },
    "id": "fGM0OLKK2SUD",
    "outputId": "6ba88b2a-f234-46af-e2bc-b8e97b70eb58"
   },
   "outputs": [],
   "source": [
    "# let's use tank '1' and pump '10'\n",
    "tank = 💡\n",
    "tank"
   ]
  },
  {
   "cell_type": "code",
   "execution_count": null,
   "metadata": {
    "colab": {
     "base_uri": "https://localhost:8080/",
     "height": 35
    },
    "executionInfo": {
     "elapsed": 28,
     "status": "ok",
     "timestamp": 1761194348532,
     "user": {
      "displayName": "Isabel S Gonzalez-Garcia",
      "userId": "01238087311006006760"
     },
     "user_tz": 300
    },
    "id": "T4BcIERH2SUD",
    "outputId": "9ddcd786-bdac-4d1c-94b7-06b199bf338d"
   },
   "outputs": [],
   "source": [
    "pump = 💡\n",
    "pump"
   ]
  },
  {
   "cell_type": "code",
   "execution_count": null,
   "metadata": {
    "id": "4b68q_xs2SUE"
   },
   "outputs": [],
   "source": [
    "# get base results\n",
    "\n",
    "# base results: pressure, demand, tank, pump\n",
    "results_demand_base = results_base.node['demand'][selected_node]*units # why do we use \"results_base\" here?\n",
    "results_pressure_base = results_base.node['pressure'][selected_node]\n",
    "results_tank_base = results_base.node['pressure'][tank]\n",
    "results_pump_base = results_base.link['flowrate'][pump]*units\n",
    "time_hours = results_pressure_base.index / 3600  # Convert seconds to hours\n"
   ]
  },
  {
   "cell_type": "code",
   "execution_count": null,
   "metadata": {
    "colab": {
     "base_uri": "https://localhost:8080/",
     "height": 458
    },
    "executionInfo": {
     "elapsed": 42,
     "status": "ok",
     "timestamp": 1761173268068,
     "user": {
      "displayName": "Isabel S Gonzalez-Garcia",
      "userId": "01238087311006006760"
     },
     "user_tz": 300
    },
    "id": "eByzXPGO2SUE",
    "outputId": "3ecc7fa9-d1e3-4fcb-c16a-cccb077f78b1"
   },
   "outputs": [],
   "source": [
    "results_demand_base"
   ]
  },
  {
   "cell_type": "markdown",
   "metadata": {
    "id": "gS7MlMSc2SUE"
   },
   "source": [
    "## Update demand, run new simulation, and compare results"
   ]
  },
  {
   "cell_type": "code",
   "execution_count": null,
   "metadata": {
    "colab": {
     "base_uri": "https://localhost:8080/"
    },
    "executionInfo": {
     "elapsed": 4,
     "status": "ok",
     "timestamp": 1761173270766,
     "user": {
      "displayName": "Isabel S Gonzalez-Garcia",
      "userId": "01238087311006006760"
     },
     "user_tz": 300
    },
    "id": "_8iiNNl52SUE",
    "outputId": "9df0b47b-dbd0-4841-cc53-101ba591b394"
   },
   "outputs": [],
   "source": [
    "# get base demand\n",
    "base_demand = node.demand_timeseries_list[0].base_value\n",
    "print(base_demand)"
   ]
  },
  {
   "cell_type": "code",
   "execution_count": null,
   "metadata": {
    "colab": {
     "base_uri": "https://localhost:8080/"
    },
    "executionInfo": {
     "elapsed": 9,
     "status": "ok",
     "timestamp": 1761173284084,
     "user": {
      "displayName": "Isabel S Gonzalez-Garcia",
      "userId": "01238087311006006760"
     },
     "user_tz": 300
    },
    "id": "08LMcrTb2SUE",
    "outputId": "21649ac3-d7cd-48d7-c3d7-ff0a1fef4301"
   },
   "outputs": [],
   "source": [
    "# generate random number between 0.5 to 1.5\n",
    "multiplier = np.random.uniform(0.5, 1.5)\n",
    "print(multiplier)"
   ]
  },
  {
   "cell_type": "code",
   "execution_count": null,
   "metadata": {
    "colab": {
     "base_uri": "https://localhost:8080/"
    },
    "executionInfo": {
     "elapsed": 39,
     "status": "ok",
     "timestamp": 1761173290256,
     "user": {
      "displayName": "Isabel S Gonzalez-Garcia",
      "userId": "01238087311006006760"
     },
     "user_tz": 300
    },
    "id": "cFTOZgXz2SUE",
    "outputId": "3b1dd7c9-4454-4aba-baa1-b031f70c455a"
   },
   "outputs": [],
   "source": [
    "# update demand\n",
    "node.demand_timeseries_list[0].base_value = base_demand*multiplier\n",
    "print(node.demand_timeseries_list[0].base_value)"
   ]
  },
  {
   "cell_type": "code",
   "execution_count": null,
   "metadata": {
    "id": "NNdSKsNN2SUE"
   },
   "outputs": [],
   "source": [
    "# run new simulation\n",
    "sim = wntr.sim.EpanetSimulator(wn)\n",
    "results = sim.run_sim()"
   ]
  },
  {
   "cell_type": "code",
   "execution_count": null,
   "metadata": {
    "id": "NzANz_hJ2SUE"
   },
   "outputs": [],
   "source": [
    "# get new results\n",
    "\n",
    "# new results: pressure, demand, tank, pump\n",
    "results_demand_new = results.node[💡][💡]*units\n",
    "results_pressure_new = results.node[💡][💡]\n",
    "results_tank_new = results.node[💡][💡]\n",
    "results_pump_new = results.link[💡][💡]*units\n"
   ]
  },
  {
   "cell_type": "code",
   "execution_count": null,
   "metadata": {
    "colab": {
     "base_uri": "https://localhost:8080/",
     "height": 241
    },
    "executionInfo": {
     "elapsed": 13,
     "status": "ok",
     "timestamp": 1761173299585,
     "user": {
      "displayName": "Isabel S Gonzalez-Garcia",
      "userId": "01238087311006006760"
     },
     "user_tz": 300
    },
    "id": "MieeLV6O2SUF",
    "outputId": "c80e60ed-fa53-4873-e1f3-0e0b952e5e5f"
   },
   "outputs": [],
   "source": [
    "results_demand_base.head()"
   ]
  },
  {
   "cell_type": "code",
   "execution_count": null,
   "metadata": {
    "colab": {
     "base_uri": "https://localhost:8080/",
     "height": 241
    },
    "executionInfo": {
     "elapsed": 10,
     "status": "ok",
     "timestamp": 1761173300317,
     "user": {
      "displayName": "Isabel S Gonzalez-Garcia",
      "userId": "01238087311006006760"
     },
     "user_tz": 300
    },
    "id": "awOLx-3P2SUF",
    "outputId": "79a5418f-121c-4ce0-8e28-6eea2b9326f0"
   },
   "outputs": [],
   "source": [
    "results_demand_new.head()"
   ]
  },
  {
   "cell_type": "code",
   "execution_count": null,
   "metadata": {
    "colab": {
     "base_uri": "https://localhost:8080/",
     "height": 472
    },
    "executionInfo": {
     "elapsed": 420,
     "status": "ok",
     "timestamp": 1761173310237,
     "user": {
      "displayName": "Isabel S Gonzalez-Garcia",
      "userId": "01238087311006006760"
     },
     "user_tz": 300
    },
    "id": "SkiCwxTd2SUF",
    "outputId": "5e291d4c-5ce2-49da-e4f1-d70d7d57d25e"
   },
   "outputs": [],
   "source": [
    "# Make some plots\n",
    "\n",
    "# plot the demand\n",
    "plt.plot(💡, 💡, color='gray', linewidth = 1, alpha = 0.5)\n",
    "plt.plot(💡, 💡, color='blue', linewidth = 1, alpha = 0.5)\n",
    "# Formatting the plot\n",
    "plt.xlabel('Time (hours)')\n",
    "plt.ylabel('Demand (gpm)')\n",
    "plt.title('Demand at node ' + selected_node)\n",
    "plt.legend(['base','new'], loc='best') # how does it know which one is \"base\" and which one is \"new\" ?\n",
    "plt.show()\n"
   ]
  },
  {
   "cell_type": "code",
   "execution_count": null,
   "metadata": {
    "colab": {
     "base_uri": "https://localhost:8080/",
     "height": 472
    },
    "executionInfo": {
     "elapsed": 377,
     "status": "ok",
     "timestamp": 1761173315967,
     "user": {
      "displayName": "Isabel S Gonzalez-Garcia",
      "userId": "01238087311006006760"
     },
     "user_tz": 300
    },
    "id": "T_iuVRlh2SUF",
    "outputId": "c684ef42-19ee-47c1-d7db-e295e51465e9"
   },
   "outputs": [],
   "source": [
    "# plot the pressure\n",
    "💡\n",
    "# Formatting the plot\n",
    "💡"
   ]
  },
  {
   "cell_type": "code",
   "execution_count": null,
   "metadata": {
    "colab": {
     "base_uri": "https://localhost:8080/",
     "height": 472
    },
    "executionInfo": {
     "elapsed": 305,
     "status": "ok",
     "timestamp": 1761173323414,
     "user": {
      "displayName": "Isabel S Gonzalez-Garcia",
      "userId": "01238087311006006760"
     },
     "user_tz": 300
    },
    "id": "iTMVrfeY2SUF",
    "outputId": "3b50a833-6da2-407a-d566-91ef25cf6868"
   },
   "outputs": [],
   "source": [
    "# plot the tank water level\n",
    "💡\n",
    "# Formatting the plot\n",
    "💡"
   ]
  },
  {
   "cell_type": "code",
   "execution_count": null,
   "metadata": {
    "colab": {
     "base_uri": "https://localhost:8080/",
     "height": 472
    },
    "executionInfo": {
     "elapsed": 208,
     "status": "ok",
     "timestamp": 1761173324691,
     "user": {
      "displayName": "Isabel S Gonzalez-Garcia",
      "userId": "01238087311006006760"
     },
     "user_tz": 300
    },
    "id": "QVrU0_oD2SUF",
    "outputId": "fe8d8837-0742-4d0a-bf55-73619f4ea255"
   },
   "outputs": [],
   "source": [
    "# pump\n",
    "plt.plot(time_hours, results_pump_base, color='gray', linewidth = 1, alpha = 0.5)\n",
    "plt.plot(time_hours, results_pump_new, color='blue', linewidth = 1, alpha = 0.5)\n",
    "# Formatting the plot\n",
    "plt.xlabel('Time (hours)')\n",
    "plt.ylabel('Flow (gpm)')\n",
    "plt.title('Pump flow ' + pump)\n",
    "plt.legend({'base','new'}, loc='best')\n",
    "plt.show()"
   ]
  },
  {
   "cell_type": "markdown",
   "metadata": {
    "id": "ihNrBQA42SUG"
   },
   "source": [
    "**Additional notes:**\n",
    "Next, you can use the loops we covered last time, change demands at all nodes, and see the impact of uncertainty in demand"
   ]
  },
  {
   "cell_type": "code",
   "execution_count": null,
   "metadata": {
    "id": "7gu3ubFQ2SUR"
   },
   "outputs": [],
   "source": []
  }
 ],
 "metadata": {
  "colab": {
   "provenance": [
    {
     "file_id": "1NNFMOI4EbkzfMXjY6l57-yyt90TqpXkJ",
     "timestamp": 1761173434700
    }
   ]
  },
  "kernelspec": {
   "display_name": "Python 3 (ipykernel)",
   "language": "python",
   "name": "python3"
  },
  "language_info": {
   "codemirror_mode": {
    "name": "ipython",
    "version": 3
   },
   "file_extension": ".py",
   "mimetype": "text/x-python",
   "name": "python",
   "nbconvert_exporter": "python",
   "pygments_lexer": "ipython3",
   "version": "3.9.21"
  },
  "toc-autonumbering": true,
  "vscode": {
   "interpreter": {
    "hash": "45e5fc2add644b17ca9d771f06d4d0791b1baf8fc0ad9b13d75afaf563ce7ce4"
   }
  }
 },
 "nbformat": 4,
 "nbformat_minor": 4
}
