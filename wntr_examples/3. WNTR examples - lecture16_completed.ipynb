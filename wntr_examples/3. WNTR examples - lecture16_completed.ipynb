{
 "cells": [
  {
   "cell_type": "markdown",
   "metadata": {
    "tags": []
   },
   "source": [
    "# WNTR Additional Examples\n",
    "Here, we will have a few more advanced examples using WNTR focusing on modifying settings and analyzing results:\n",
    "\n",
    "1. Basic example\n",
    "2. Basic data processing\n",
    "3. Loops\n",
    "\n",
    "TODO: 💡"
   ]
  },
  {
   "cell_type": "markdown",
   "metadata": {
    "slideshow": {
     "slide_type": ""
    },
    "tags": []
   },
   "source": [
    "## Imports\n",
    "Install and import WNTR and additional Python packages that are needed for the tutorial\n",
    "- Numpy is required to define comparison operators (i.e., np.greater) in queries\n",
    "- Matplotlib is required to create graphics"
   ]
  },
  {
   "cell_type": "code",
   "execution_count": 1,
   "metadata": {},
   "outputs": [],
   "source": [
    "# Install required packages if not already available\n",
    "try:\n",
    "    import wntr\n",
    "except ImportError:\n",
    "    !pip install wntr\n",
    "    import wntr  # import again after installation"
   ]
  },
  {
   "cell_type": "code",
   "execution_count": 2,
   "metadata": {},
   "outputs": [],
   "source": [
    "import numpy as np\n",
    "import matplotlib.pyplot as plt"
   ]
  },
  {
   "cell_type": "markdown",
   "metadata": {},
   "source": [
    "## Units\n",
    "WNTR uses **SI (International System) units (length in meters, time in seconds, mass in kilograms)**.  See https://usepa.github.io/WNTR/units.html for more details."
   ]
  },
  {
   "cell_type": "markdown",
   "metadata": {
    "tags": []
   },
   "source": [
    "# Basic example"
   ]
  },
  {
   "cell_type": "markdown",
   "metadata": {},
   "source": [
    "Recall: basics steps:\n",
    "1. set pat of the .inp file\n",
    "2. initialize wntr model\n",
    "3. run simulation\n",
    "4. get results"
   ]
  },
  {
   "cell_type": "code",
   "execution_count": 3,
   "metadata": {
    "tags": []
   },
   "outputs": [],
   "source": [
    "# Create a WaterNetworkModel from an EPANET INP file\n",
    "wn = wntr.network.WaterNetworkModel('networks/Net3.inp')"
   ]
  },
  {
   "cell_type": "code",
   "execution_count": 4,
   "metadata": {},
   "outputs": [],
   "source": [
    "# Simulate hydraulics using EPANET\n",
    "sim = wntr.sim.EpanetSimulator(wn)\n",
    "results_EPANET = sim.run_sim()"
   ]
  },
  {
   "cell_type": "markdown",
   "metadata": {
    "tags": []
   },
   "source": [
    "Simulation results are stored in an object which includes a dictionary of DataFrames for nodes and a dictionary of DataFrames for links.  Each DataFrame is indexed by time (in seconds) and the columns are node or link names."
   ]
  },
  {
   "cell_type": "code",
   "execution_count": 5,
   "metadata": {},
   "outputs": [
    {
     "data": {
      "text/plain": [
       "dict_keys(['demand', 'head', 'pressure', 'quality'])"
      ]
     },
     "execution_count": 5,
     "metadata": {},
     "output_type": "execute_result"
    }
   ],
   "source": [
    "# Print available node results\n",
    "results_EPANET.node.keys()"
   ]
  },
  {
   "cell_type": "code",
   "execution_count": 6,
   "metadata": {},
   "outputs": [
    {
     "data": {
      "text/plain": [
       "dict_keys(['quality', 'flowrate', 'velocity', 'headloss', 'status', 'setting', 'friction_factor', 'reaction_rate'])"
      ]
     },
     "execution_count": 6,
     "metadata": {},
     "output_type": "execute_result"
    }
   ],
   "source": [
    "# Print available link results\n",
    "results_EPANET.link.keys()"
   ]
  },
  {
   "cell_type": "code",
   "execution_count": 7,
   "metadata": {},
   "outputs": [
    {
     "data": {
      "text/html": [
       "<div>\n",
       "<style scoped>\n",
       "    .dataframe tbody tr th:only-of-type {\n",
       "        vertical-align: middle;\n",
       "    }\n",
       "\n",
       "    .dataframe tbody tr th {\n",
       "        vertical-align: top;\n",
       "    }\n",
       "\n",
       "    .dataframe thead th {\n",
       "        text-align: right;\n",
       "    }\n",
       "</style>\n",
       "<table border=\"1\" class=\"dataframe\">\n",
       "  <thead>\n",
       "    <tr style=\"text-align: right;\">\n",
       "      <th>name</th>\n",
       "      <th>10</th>\n",
       "      <th>15</th>\n",
       "      <th>20</th>\n",
       "      <th>35</th>\n",
       "      <th>40</th>\n",
       "      <th>50</th>\n",
       "      <th>60</th>\n",
       "      <th>601</th>\n",
       "      <th>61</th>\n",
       "      <th>101</th>\n",
       "      <th>...</th>\n",
       "      <th>267</th>\n",
       "      <th>269</th>\n",
       "      <th>271</th>\n",
       "      <th>273</th>\n",
       "      <th>275</th>\n",
       "      <th>River</th>\n",
       "      <th>Lake</th>\n",
       "      <th>1</th>\n",
       "      <th>2</th>\n",
       "      <th>3</th>\n",
       "    </tr>\n",
       "  </thead>\n",
       "  <tbody>\n",
       "    <tr>\n",
       "      <th>0</th>\n",
       "      <td>-0.450070</td>\n",
       "      <td>28.593657</td>\n",
       "      <td>8.839204</td>\n",
       "      <td>40.612469</td>\n",
       "      <td>3.992880</td>\n",
       "      <td>7.162800</td>\n",
       "      <td>63.706444</td>\n",
       "      <td>92.187874</td>\n",
       "      <td>92.187874</td>\n",
       "      <td>31.553928</td>\n",
       "      <td>...</td>\n",
       "      <td>38.151543</td>\n",
       "      <td>44.650841</td>\n",
       "      <td>42.623016</td>\n",
       "      <td>40.477558</td>\n",
       "      <td>39.655293</td>\n",
       "      <td>0.0</td>\n",
       "      <td>0.0</td>\n",
       "      <td>3.992880</td>\n",
       "      <td>7.162800</td>\n",
       "      <td>8.839199</td>\n",
       "    </tr>\n",
       "    <tr>\n",
       "      <th>3600</th>\n",
       "      <td>28.253721</td>\n",
       "      <td>28.887156</td>\n",
       "      <td>9.099179</td>\n",
       "      <td>41.513771</td>\n",
       "      <td>4.191203</td>\n",
       "      <td>6.752899</td>\n",
       "      <td>63.751488</td>\n",
       "      <td>92.490318</td>\n",
       "      <td>92.490318</td>\n",
       "      <td>39.867870</td>\n",
       "      <td>...</td>\n",
       "      <td>39.722370</td>\n",
       "      <td>45.767307</td>\n",
       "      <td>43.530823</td>\n",
       "      <td>41.041176</td>\n",
       "      <td>40.189754</td>\n",
       "      <td>0.0</td>\n",
       "      <td>0.0</td>\n",
       "      <td>4.191203</td>\n",
       "      <td>6.752899</td>\n",
       "      <td>9.099170</td>\n",
       "    </tr>\n",
       "    <tr>\n",
       "      <th>7200</th>\n",
       "      <td>28.764309</td>\n",
       "      <td>30.003231</td>\n",
       "      <td>9.450786</td>\n",
       "      <td>42.429108</td>\n",
       "      <td>4.620553</td>\n",
       "      <td>6.369764</td>\n",
       "      <td>63.793495</td>\n",
       "      <td>92.773643</td>\n",
       "      <td>92.773643</td>\n",
       "      <td>41.517067</td>\n",
       "      <td>...</td>\n",
       "      <td>40.730850</td>\n",
       "      <td>46.730705</td>\n",
       "      <td>44.450729</td>\n",
       "      <td>41.956635</td>\n",
       "      <td>41.098701</td>\n",
       "      <td>0.0</td>\n",
       "      <td>0.0</td>\n",
       "      <td>4.620553</td>\n",
       "      <td>6.369764</td>\n",
       "      <td>9.450771</td>\n",
       "    </tr>\n",
       "    <tr>\n",
       "      <th>10800</th>\n",
       "      <td>28.871420</td>\n",
       "      <td>30.415579</td>\n",
       "      <td>9.869709</td>\n",
       "      <td>42.817181</td>\n",
       "      <td>5.158957</td>\n",
       "      <td>6.534997</td>\n",
       "      <td>63.813141</td>\n",
       "      <td>92.906601</td>\n",
       "      <td>92.906601</td>\n",
       "      <td>41.862659</td>\n",
       "      <td>...</td>\n",
       "      <td>41.116528</td>\n",
       "      <td>47.115646</td>\n",
       "      <td>44.837078</td>\n",
       "      <td>42.284969</td>\n",
       "      <td>41.419266</td>\n",
       "      <td>0.0</td>\n",
       "      <td>0.0</td>\n",
       "      <td>5.158957</td>\n",
       "      <td>6.534997</td>\n",
       "      <td>9.869695</td>\n",
       "    </tr>\n",
       "    <tr>\n",
       "      <th>14400</th>\n",
       "      <td>29.659281</td>\n",
       "      <td>31.970745</td>\n",
       "      <td>10.284730</td>\n",
       "      <td>44.297886</td>\n",
       "      <td>5.665973</td>\n",
       "      <td>6.740044</td>\n",
       "      <td>63.877914</td>\n",
       "      <td>93.346977</td>\n",
       "      <td>93.346977</td>\n",
       "      <td>44.400757</td>\n",
       "      <td>...</td>\n",
       "      <td>42.755901</td>\n",
       "      <td>48.670105</td>\n",
       "      <td>46.327477</td>\n",
       "      <td>43.938866</td>\n",
       "      <td>43.075676</td>\n",
       "      <td>0.0</td>\n",
       "      <td>0.0</td>\n",
       "      <td>5.665973</td>\n",
       "      <td>6.740044</td>\n",
       "      <td>10.284711</td>\n",
       "    </tr>\n",
       "  </tbody>\n",
       "</table>\n",
       "<p>5 rows × 97 columns</p>\n",
       "</div>"
      ],
      "text/plain": [
       "name          10         15         20         35        40        50  \\\n",
       "0      -0.450070  28.593657   8.839204  40.612469  3.992880  7.162800   \n",
       "3600   28.253721  28.887156   9.099179  41.513771  4.191203  6.752899   \n",
       "7200   28.764309  30.003231   9.450786  42.429108  4.620553  6.369764   \n",
       "10800  28.871420  30.415579   9.869709  42.817181  5.158957  6.534997   \n",
       "14400  29.659281  31.970745  10.284730  44.297886  5.665973  6.740044   \n",
       "\n",
       "name          60        601         61        101  ...        267        269  \\\n",
       "0      63.706444  92.187874  92.187874  31.553928  ...  38.151543  44.650841   \n",
       "3600   63.751488  92.490318  92.490318  39.867870  ...  39.722370  45.767307   \n",
       "7200   63.793495  92.773643  92.773643  41.517067  ...  40.730850  46.730705   \n",
       "10800  63.813141  92.906601  92.906601  41.862659  ...  41.116528  47.115646   \n",
       "14400  63.877914  93.346977  93.346977  44.400757  ...  42.755901  48.670105   \n",
       "\n",
       "name         271        273        275  River  Lake         1         2  \\\n",
       "0      42.623016  40.477558  39.655293    0.0   0.0  3.992880  7.162800   \n",
       "3600   43.530823  41.041176  40.189754    0.0   0.0  4.191203  6.752899   \n",
       "7200   44.450729  41.956635  41.098701    0.0   0.0  4.620553  6.369764   \n",
       "10800  44.837078  42.284969  41.419266    0.0   0.0  5.158957  6.534997   \n",
       "14400  46.327477  43.938866  43.075676    0.0   0.0  5.665973  6.740044   \n",
       "\n",
       "name           3  \n",
       "0       8.839199  \n",
       "3600    9.099170  \n",
       "7200    9.450771  \n",
       "10800   9.869695  \n",
       "14400  10.284711  \n",
       "\n",
       "[5 rows x 97 columns]"
      ]
     },
     "execution_count": 7,
     "metadata": {},
     "output_type": "execute_result"
    }
   ],
   "source": [
    "# View EpanetSimulator pressure results\n",
    "results_EPANET.node['pressure'].head()"
   ]
  },
  {
   "cell_type": "code",
   "execution_count": 8,
   "metadata": {},
   "outputs": [
    {
     "data": {
      "text/html": [
       "<div>\n",
       "<style scoped>\n",
       "    .dataframe tbody tr th:only-of-type {\n",
       "        vertical-align: middle;\n",
       "    }\n",
       "\n",
       "    .dataframe tbody tr th {\n",
       "        vertical-align: top;\n",
       "    }\n",
       "\n",
       "    .dataframe thead th {\n",
       "        text-align: right;\n",
       "    }\n",
       "</style>\n",
       "<table border=\"1\" class=\"dataframe\">\n",
       "  <thead>\n",
       "    <tr style=\"text-align: right;\">\n",
       "      <th>name</th>\n",
       "      <th>20</th>\n",
       "      <th>40</th>\n",
       "      <th>50</th>\n",
       "      <th>60</th>\n",
       "      <th>101</th>\n",
       "      <th>103</th>\n",
       "      <th>105</th>\n",
       "      <th>107</th>\n",
       "      <th>109</th>\n",
       "      <th>111</th>\n",
       "      <th>...</th>\n",
       "      <th>317</th>\n",
       "      <th>319</th>\n",
       "      <th>321</th>\n",
       "      <th>323</th>\n",
       "      <th>325</th>\n",
       "      <th>329</th>\n",
       "      <th>330</th>\n",
       "      <th>333</th>\n",
       "      <th>10</th>\n",
       "      <th>335</th>\n",
       "    </tr>\n",
       "  </thead>\n",
       "  <tbody>\n",
       "    <tr>\n",
       "      <th>0</th>\n",
       "      <td>-0.141719</td>\n",
       "      <td>-0.029042</td>\n",
       "      <td>0.020770</td>\n",
       "      <td>0.830133</td>\n",
       "      <td>6.040704e-09</td>\n",
       "      <td>0.010603</td>\n",
       "      <td>-0.026661</td>\n",
       "      <td>0.002038</td>\n",
       "      <td>-0.000658</td>\n",
       "      <td>-0.020221</td>\n",
       "      <td>...</td>\n",
       "      <td>0.007019</td>\n",
       "      <td>-0.000032</td>\n",
       "      <td>0.476306</td>\n",
       "      <td>-0.005008</td>\n",
       "      <td>0.009100</td>\n",
       "      <td>0.830133</td>\n",
       "      <td>0.0</td>\n",
       "      <td>-3.219251e-08</td>\n",
       "      <td>0.000000</td>\n",
       "      <td>0.830133</td>\n",
       "    </tr>\n",
       "    <tr>\n",
       "      <th>3600</th>\n",
       "      <td>-0.191671</td>\n",
       "      <td>-0.062873</td>\n",
       "      <td>0.019414</td>\n",
       "      <td>0.824086</td>\n",
       "      <td>2.167272e-01</td>\n",
       "      <td>0.116475</td>\n",
       "      <td>0.077004</td>\n",
       "      <td>0.026062</td>\n",
       "      <td>0.100172</td>\n",
       "      <td>0.071849</td>\n",
       "      <td>...</td>\n",
       "      <td>0.007523</td>\n",
       "      <td>0.004533</td>\n",
       "      <td>0.488297</td>\n",
       "      <td>0.010440</td>\n",
       "      <td>0.013403</td>\n",
       "      <td>0.824086</td>\n",
       "      <td>0.0</td>\n",
       "      <td>-3.219251e-08</td>\n",
       "      <td>0.216727</td>\n",
       "      <td>0.824086</td>\n",
       "    </tr>\n",
       "    <tr>\n",
       "      <th>7200</th>\n",
       "      <td>-0.228370</td>\n",
       "      <td>-0.078843</td>\n",
       "      <td>-0.008372</td>\n",
       "      <td>0.818413</td>\n",
       "      <td>2.101061e-01</td>\n",
       "      <td>0.112424</td>\n",
       "      <td>0.080186</td>\n",
       "      <td>0.025750</td>\n",
       "      <td>0.100154</td>\n",
       "      <td>0.078840</td>\n",
       "      <td>...</td>\n",
       "      <td>0.007631</td>\n",
       "      <td>0.006129</td>\n",
       "      <td>0.492515</td>\n",
       "      <td>0.015747</td>\n",
       "      <td>0.014157</td>\n",
       "      <td>0.818413</td>\n",
       "      <td>0.0</td>\n",
       "      <td>-3.219251e-08</td>\n",
       "      <td>0.210106</td>\n",
       "      <td>0.818413</td>\n",
       "    </tr>\n",
       "    <tr>\n",
       "      <th>10800</th>\n",
       "      <td>-0.226241</td>\n",
       "      <td>-0.074246</td>\n",
       "      <td>-0.010390</td>\n",
       "      <td>0.815749</td>\n",
       "      <td>2.086967e-01</td>\n",
       "      <td>0.111710</td>\n",
       "      <td>0.079729</td>\n",
       "      <td>0.025627</td>\n",
       "      <td>0.099609</td>\n",
       "      <td>0.078586</td>\n",
       "      <td>...</td>\n",
       "      <td>0.007760</td>\n",
       "      <td>0.006157</td>\n",
       "      <td>0.492931</td>\n",
       "      <td>0.016104</td>\n",
       "      <td>0.014133</td>\n",
       "      <td>0.815749</td>\n",
       "      <td>0.0</td>\n",
       "      <td>-3.219251e-08</td>\n",
       "      <td>0.208697</td>\n",
       "      <td>0.815749</td>\n",
       "    </tr>\n",
       "    <tr>\n",
       "      <th>14400</th>\n",
       "      <td>-0.283993</td>\n",
       "      <td>-0.100968</td>\n",
       "      <td>-0.035917</td>\n",
       "      <td>0.806910</td>\n",
       "      <td>1.980931e-01</td>\n",
       "      <td>0.105608</td>\n",
       "      <td>0.083378</td>\n",
       "      <td>0.025560</td>\n",
       "      <td>0.099221</td>\n",
       "      <td>0.088126</td>\n",
       "      <td>...</td>\n",
       "      <td>0.007718</td>\n",
       "      <td>0.004612</td>\n",
       "      <td>0.488854</td>\n",
       "      <td>0.015815</td>\n",
       "      <td>0.015187</td>\n",
       "      <td>0.806910</td>\n",
       "      <td>0.0</td>\n",
       "      <td>-3.219251e-08</td>\n",
       "      <td>0.198093</td>\n",
       "      <td>0.806910</td>\n",
       "    </tr>\n",
       "  </tbody>\n",
       "</table>\n",
       "<p>5 rows × 119 columns</p>\n",
       "</div>"
      ],
      "text/plain": [
       "name         20        40        50        60           101       103  \\\n",
       "0     -0.141719 -0.029042  0.020770  0.830133  6.040704e-09  0.010603   \n",
       "3600  -0.191671 -0.062873  0.019414  0.824086  2.167272e-01  0.116475   \n",
       "7200  -0.228370 -0.078843 -0.008372  0.818413  2.101061e-01  0.112424   \n",
       "10800 -0.226241 -0.074246 -0.010390  0.815749  2.086967e-01  0.111710   \n",
       "14400 -0.283993 -0.100968 -0.035917  0.806910  1.980931e-01  0.105608   \n",
       "\n",
       "name        105       107       109       111  ...       317       319  \\\n",
       "0     -0.026661  0.002038 -0.000658 -0.020221  ...  0.007019 -0.000032   \n",
       "3600   0.077004  0.026062  0.100172  0.071849  ...  0.007523  0.004533   \n",
       "7200   0.080186  0.025750  0.100154  0.078840  ...  0.007631  0.006129   \n",
       "10800  0.079729  0.025627  0.099609  0.078586  ...  0.007760  0.006157   \n",
       "14400  0.083378  0.025560  0.099221  0.088126  ...  0.007718  0.004612   \n",
       "\n",
       "name        321       323       325       329  330           333        10  \\\n",
       "0      0.476306 -0.005008  0.009100  0.830133  0.0 -3.219251e-08  0.000000   \n",
       "3600   0.488297  0.010440  0.013403  0.824086  0.0 -3.219251e-08  0.216727   \n",
       "7200   0.492515  0.015747  0.014157  0.818413  0.0 -3.219251e-08  0.210106   \n",
       "10800  0.492931  0.016104  0.014133  0.815749  0.0 -3.219251e-08  0.208697   \n",
       "14400  0.488854  0.015815  0.015187  0.806910  0.0 -3.219251e-08  0.198093   \n",
       "\n",
       "name        335  \n",
       "0      0.830133  \n",
       "3600   0.824086  \n",
       "7200   0.818413  \n",
       "10800  0.815749  \n",
       "14400  0.806910  \n",
       "\n",
       "[5 rows x 119 columns]"
      ]
     },
     "execution_count": 8,
     "metadata": {},
     "output_type": "execute_result"
    }
   ],
   "source": [
    "# View EpanetSimulator flow results\n",
    "results_EPANET.link['flowrate'].head()"
   ]
  },
  {
   "cell_type": "code",
   "execution_count": 9,
   "metadata": {},
   "outputs": [
    {
     "data": {
      "text/plain": [
       "0          8.839204\n",
       "3600       9.099179\n",
       "7200       9.450786\n",
       "10800      9.869709\n",
       "14400     10.284730\n",
       "            ...    \n",
       "590400     9.350327\n",
       "594000     9.165747\n",
       "597600     9.179482\n",
       "601200     9.379585\n",
       "604800     9.486569\n",
       "Name: 20, Length: 169, dtype: float32"
      ]
     },
     "execution_count": 9,
     "metadata": {},
     "output_type": "execute_result"
    }
   ],
   "source": [
    "# get pressure at specific node\n",
    "results_EPANET.node['pressure'].loc[:,'20'] "
   ]
  },
  {
   "cell_type": "code",
   "execution_count": 14,
   "metadata": {},
   "outputs": [
    {
     "data": {
      "text/plain": [
       "Index([  0.0,   1.0,   2.0,   3.0,   4.0,   5.0,   6.0,   7.0,   8.0,   9.0,\n",
       "       ...\n",
       "       159.0, 160.0, 161.0, 162.0, 163.0, 164.0, 165.0, 166.0, 167.0, 168.0],\n",
       "      dtype='float64', length=169)"
      ]
     },
     "execution_count": 14,
     "metadata": {},
     "output_type": "execute_result"
    }
   ],
   "source": [
    "results_pressure = results_EPANET.node['pressure'].loc[:,'20'] \n",
    "time_hours = results_pressure.index/3600 \n",
    "time_hours"
   ]
  },
  {
   "cell_type": "code",
   "execution_count": 17,
   "metadata": {},
   "outputs": [
    {
     "data": {
      "image/png": "[encoded data removed]",
      "text/plain": [
       "<Figure size 640x480 with 1 Axes>"
      ]
     },
     "metadata": {},
     "output_type": "display_data"
    }
   ],
   "source": [
    "# plot using matplotlib\n",
    "# pressure junction '20'\n",
    "# -----------------------------------------------------\n",
    "results_pressure = results_EPANET.node['pressure'].loc[:,'20'] \n",
    "time_hours = results_pressure.index / 3600\n",
    "plt.plot( time_hours, results_pressure , linewidth=2, alpha=0.5)\n",
    "# Formatting the plot\n",
    "plt.xlabel('Time (hours)')\n",
    "plt.ylabel('Pressure head (m)')\n",
    "plt.legend('20', title='Junction', loc='best')\n",
    "plt.savefig('0_pressure.png', dpi = 400)\n",
    "plt.show()\n"
   ]
  },
  {
   "cell_type": "code",
   "execution_count": 18,
   "metadata": {},
   "outputs": [],
   "source": [
    "results_flow = results_EPANET.link['flowrate'].loc[:,'50'] "
   ]
  },
  {
   "cell_type": "code",
   "execution_count": 22,
   "metadata": {},
   "outputs": [
    {
     "data": {
      "image/png": "[encoded data removed]",
      "text/plain": [
       "<Figure size 640x480 with 1 Axes>"
      ]
     },
     "metadata": {},
     "output_type": "display_data"
    }
   ],
   "source": [
    "# plot using matplotlib\n",
    "# flow rate pipe '50'\n",
    "# -----------------------------------------------------\n",
    "results_flow = results_EPANET.link['flowrate'].loc[:,'50'] \n",
    "plt.plot( time_hours , results_flow, color = 'red', linewidth = 2, alpha = 0.5)\n",
    "# Formatting the plot\n",
    "plt.xlabel('Time (hours)')\n",
    "plt.ylabel('Flowrate (cms)')\n",
    "plt.legend(['50'], title='Pipe', loc='best')\n",
    "plt.savefig('0_flow.png', dpi = 400)\n",
    "plt.show()"
   ]
  },
  {
   "cell_type": "markdown",
   "metadata": {},
   "source": [
    "**Let's plot pressures for two nodes on the same plot**"
   ]
  },
  {
   "cell_type": "code",
   "execution_count": 24,
   "metadata": {},
   "outputs": [
    {
     "data": {
      "image/png": "[encoded data removed]",
      "text/plain": [
       "<Figure size 640x480 with 1 Axes>"
      ]
     },
     "metadata": {},
     "output_type": "display_data"
    }
   ],
   "source": [
    "# pressures at junctions 20 and 107\n",
    "# -----------------------------------------------------\n",
    "results_pressure = results_EPANET.node['pressure'].loc[:,'20'] \n",
    "plt.plot(time_hours,  results_pressure,  color = 'magenta', linewidth=2, alpha=0.5)\n",
    "\n",
    "results_pressure = results_EPANET.node['pressure'].loc[:,'107'] \n",
    "plt.plot(time_hours, results_pressure,  color = 'green', linewidth=2, alpha=0.5)\n",
    "# Formatting the plot\n",
    "plt.xlabel('Time (hours)')\n",
    "plt.ylabel('Pressure head (m)')\n",
    "plt.legend(['20','107'], title='Junction', loc='best')\n",
    "plt.show()"
   ]
  },
  {
   "cell_type": "markdown",
   "metadata": {},
   "source": [
    "# Basic data processing\n",
    "In this example, you will:\n",
    "1. Generate a time-series plot showing  pump flow rate and the tank water level.\n",
    "2. Plot the tank water level highlighting when it exceeds a chosen threshold and report how many times this occurs.\n",
    "3. Plot the pump’s ON/OFF status over time and report how many times the pump turns ON.\n",
    "\n",
    "You will learn how to reference elements in a more general way, which is especially useful for automating simulations and writing adaptable, reusable code."
   ]
  },
  {
   "cell_type": "markdown",
   "metadata": {},
   "source": [
    "## Part 1 - plot pump and tank"
   ]
  },
  {
   "cell_type": "code",
   "execution_count": 25,
   "metadata": {},
   "outputs": [],
   "source": [
    "# Import .inp and run simulation\n",
    "inp = 'networks/Net3.inp'\n",
    "wn = wntr.network.WaterNetworkModel(inp)\n",
    "sim = wntr.sim.EpanetSimulator(wn)\n",
    "results = sim.run_sim()"
   ]
  },
  {
   "cell_type": "markdown",
   "metadata": {},
   "source": [
    "**Let's start with the pumps**"
   ]
  },
  {
   "cell_type": "code",
   "execution_count": 26,
   "metadata": {},
   "outputs": [
    {
     "name": "stdout",
     "output_type": "stream",
     "text": [
      "Pump names ['10', '335']\n"
     ]
    }
   ],
   "source": [
    "# get pump list\n",
    "print(\"Pump names\", wn.pump_name_list)"
   ]
  },
  {
   "cell_type": "code",
   "execution_count": 27,
   "metadata": {},
   "outputs": [],
   "source": [
    "# let's define unit conversion so we can display results in gpm\n",
    "units = 15850.3 # cms to gpm"
   ]
  },
  {
   "cell_type": "code",
   "execution_count": 28,
   "metadata": {},
   "outputs": [
    {
     "name": "stdout",
     "output_type": "stream",
     "text": [
      "10\n"
     ]
    },
    {
     "data": {
      "text/plain": [
       "<Pump '10' from 'Lake' to '10', pump_type='HEAD', pump_curve=1, speed=<TimeSeries: base_value=1.0, pattern_name=None, category='None'>, status=Closed>"
      ]
     },
     "execution_count": 28,
     "metadata": {},
     "output_type": "execute_result"
    }
   ],
   "source": [
    "# select pump based on it's ID\n",
    "pump = wn.get_link('10')\n",
    "print(pump)    # recall this will print the name of the pump\n",
    "pump           # recall this will print the variable with all its attributes which is useful when developing the code"
   ]
  },
  {
   "cell_type": "code",
   "execution_count": 40,
   "metadata": {},
   "outputs": [
    {
     "data": {
      "text/plain": [
       "'335'"
      ]
     },
     "execution_count": 40,
     "metadata": {},
     "output_type": "execute_result"
    }
   ],
   "source": [
    "# often times we would like to automate our code and use indexes instead of names (we will see a few examples later)\n",
    "# this will produce the same result as above but using index instead of name\n",
    "\n",
    "# select pump index\n",
    "i = 1\n",
    "wn.pump_name_list[i]"
   ]
  },
  {
   "cell_type": "code",
   "execution_count": 41,
   "metadata": {},
   "outputs": [
    {
     "data": {
      "text/plain": [
       "<Pump '335' from '60' to '61', pump_type='HEAD', pump_curve=2, speed=<TimeSeries: base_value=1.0, pattern_name=None, category='None'>, status=Open>"
      ]
     },
     "execution_count": 41,
     "metadata": {},
     "output_type": "execute_result"
    }
   ],
   "source": [
    "pump = wn.get_link(wn.pump_name_list[i])\n",
    "pump"
   ]
  },
  {
   "cell_type": "code",
   "execution_count": 42,
   "metadata": {},
   "outputs": [
    {
     "data": {
      "text/plain": [
       "0         13157.856445\n",
       "3600      13062.013672\n",
       "7200      12972.099609\n",
       "10800     12929.859375\n",
       "14400     12789.766602\n",
       "              ...     \n",
       "590400        0.000000\n",
       "594000        0.000000\n",
       "597600    13195.483398\n",
       "601200    13209.923828\n",
       "604800    13091.001953\n",
       "Name: 335, Length: 169, dtype: float32"
      ]
     },
     "execution_count": 42,
     "metadata": {},
     "output_type": "execute_result"
    }
   ],
   "source": [
    "# get pump flow \n",
    "#---------------------------------------------------------\n",
    "# note how we are getting pump results by using the variable\n",
    "\n",
    "results_pump = results.link['flowrate']['335']*units # this gives pump flowrate, but we have to manualy specify pump name\n",
    "\n",
    "results_pump = results.link['flowrate'][pump.name]*units # this gives pump flowrate but without having to manualy specify the pump\n",
    "\n",
    "results_pump"
   ]
  },
  {
   "cell_type": "code",
   "execution_count": 43,
   "metadata": {},
   "outputs": [
    {
     "data": {
      "image/png": "[encoded data removed]",
      "text/plain": [
       "<Figure size 640x480 with 1 Axes>"
      ]
     },
     "metadata": {},
     "output_type": "display_data"
    }
   ],
   "source": [
    "# plot\n",
    "#---------------------------------------------------------\n",
    "time_hours = results_pump.index / 3600  # Convert seconds to hours\n",
    "plt.plot(time_hours, results_pump, color = 'red', linewidth = 2, alpha = 0.5)\n",
    "# Formatting the plot\n",
    "plt.xlabel('Time (hours)')\n",
    "plt.ylabel('Flowrate (gpm)')\n",
    "plt.legend([pump.name], loc='best')   # this also allows make general and reusable figure legend, titles\n",
    "plt.title('Pump flow ' + pump.name)\n",
    "plt.show()"
   ]
  },
  {
   "cell_type": "markdown",
   "metadata": {},
   "source": [
    "**Let's do the same for tanks**\n"
   ]
  },
  {
   "cell_type": "code",
   "execution_count": 44,
   "metadata": {},
   "outputs": [
    {
     "name": "stdout",
     "output_type": "stream",
     "text": [
      "Tank names ['1', '2', '3']\n"
     ]
    }
   ],
   "source": [
    "# get tank list\n",
    "print('Tank names', wn.tank_name_list)"
   ]
  },
  {
   "cell_type": "code",
   "execution_count": 45,
   "metadata": {},
   "outputs": [
    {
     "data": {
      "text/plain": [
       "<Tank '1', elevation=40.203120000000006, min_level=0.030480000000000004, max_level=9.784080000000001, diameter=25.908, min_vol=0.0, vol_curve='None'>"
      ]
     },
     "execution_count": 45,
     "metadata": {},
     "output_type": "execute_result"
    }
   ],
   "source": [
    "# select a tank\n",
    "i = 0\n",
    "tank = wn.get_node(wn.tank_name_list[i])\n",
    "tank"
   ]
  },
  {
   "cell_type": "code",
   "execution_count": 46,
   "metadata": {},
   "outputs": [
    {
     "data": {
      "text/plain": [
       "Text(0.5, 1.0, 'Tank water level 1')"
      ]
     },
     "execution_count": 46,
     "metadata": {},
     "output_type": "execute_result"
    },
    {
     "data": {
      "image/png": "[encoded data removed]",
      "text/plain": [
       "<Figure size 640x480 with 1 Axes>"
      ]
     },
     "metadata": {},
     "output_type": "display_data"
    }
   ],
   "source": [
    "# get tank water level and plot\n",
    "\n",
    "results_tank = results.node['pressure'][tank.name]\n",
    "\n",
    "plt.plot(time_hours, results_tank, color = 'blue', linewidth = 2, alpha = 0.5)\n",
    "# Formatting the plot\n",
    "plt.xlabel('Time (hours)')\n",
    "plt.ylabel('Tank water level (m)')\n",
    "plt.legend([tank.name], loc='best') \n",
    "plt.title('Tank water level ' + tank.name)"
   ]
  },
  {
   "cell_type": "markdown",
   "metadata": {},
   "source": [
    "## Part 2 - tank performance\n",
    "Plot the tank water level highlighting when it exceeds a chosen threshold and report how many times this occurs."
   ]
  },
  {
   "cell_type": "code",
   "execution_count": 48,
   "metadata": {},
   "outputs": [
    {
     "data": {
      "text/plain": [
       "0         3.992880\n",
       "3600      4.191203\n",
       "7200      4.620553\n",
       "10800     5.158957\n",
       "14400     5.665973\n",
       "            ...   \n",
       "590400    5.574681\n",
       "594000    5.354136\n",
       "597600    5.252803\n",
       "601200    5.092208\n",
       "604800    4.787603\n",
       "Name: 1, Length: 169, dtype: float32"
      ]
     },
     "execution_count": 48,
     "metadata": {},
     "output_type": "execute_result"
    }
   ],
   "source": [
    "results_tank = results.node['pressure'][tank.name]\n",
    "results_tank"
   ]
  },
  {
   "cell_type": "code",
   "execution_count": 51,
   "metadata": {},
   "outputs": [
    {
     "name": "stdout",
     "output_type": "stream",
     "text": [
      "0         False\n",
      "3600      False\n",
      "7200      False\n",
      "10800     False\n",
      "14400      True\n",
      "          ...  \n",
      "590400     True\n",
      "594000    False\n",
      "597600    False\n",
      "601200    False\n",
      "604800    False\n",
      "Name: 1, Length: 169, dtype: bool\n"
     ]
    }
   ],
   "source": [
    "# set threshold\n",
    "tank_thr = 5.5\n",
    "# get when tank water level is greater than the threshold\n",
    "I = results_tank > tank_thr\n",
    "print(I)"
   ]
  },
  {
   "cell_type": "code",
   "execution_count": 52,
   "metadata": {},
   "outputs": [
    {
     "data": {
      "text/plain": [
       "125"
      ]
     },
     "execution_count": 52,
     "metadata": {},
     "output_type": "execute_result"
    }
   ],
   "source": [
    "# get the number of times tank level is above threshold\n",
    "sum(I)"
   ]
  },
  {
   "cell_type": "markdown",
   "metadata": {},
   "source": [
    "Python treats `True` and `False` as numbers (`True == 1` and `False == 0`) that's why `sum(I)` gives you the number of times the condition is true"
   ]
  },
  {
   "cell_type": "code",
   "execution_count": 53,
   "metadata": {},
   "outputs": [
    {
     "name": "stdout",
     "output_type": "stream",
     "text": [
      "Number of time steps the tank is above 5.5 m is = 125\n"
     ]
    }
   ],
   "source": [
    "# print it nicely\n",
    "\n",
    "print(f'Number of time steps the tank is above {tank_thr} m is = {sum(I)}')"
   ]
  },
  {
   "cell_type": "code",
   "execution_count": 55,
   "metadata": {},
   "outputs": [
    {
     "data": {
      "image/png": "[encoded data removed]",
      "text/plain": [
       "<Figure size 640x480 with 1 Axes>"
      ]
     },
     "metadata": {},
     "output_type": "display_data"
    }
   ],
   "source": [
    "# plot\n",
    "\n",
    "plt.plot(time_hours, I, color='blue', linewidth = 2, alpha = 0.5)\n",
    "plt.title(f'Tank {tank.name} is above {tank_thr} m')\n",
    "plt.xlabel('Time (hours)')\n",
    "plt.show()"
   ]
  },
  {
   "cell_type": "markdown",
   "metadata": {},
   "source": [
    "Change the threshold see that the result makes sense:\n",
    "\n",
    "higher threshold -> fewer occurances\n",
    "\n",
    "lower thresshold -> more occrances\n"
   ]
  },
  {
   "cell_type": "markdown",
   "metadata": {},
   "source": [
    "## Part 3 - pump performance\n",
    "Plot the pump’s ON/OFF status over time and report how many times the pump turns ON."
   ]
  },
  {
   "cell_type": "code",
   "execution_count": 56,
   "metadata": {},
   "outputs": [
    {
     "name": "stdout",
     "output_type": "stream",
     "text": [
      "0          True\n",
      "3600       True\n",
      "7200       True\n",
      "10800      True\n",
      "14400      True\n",
      "          ...  \n",
      "590400    False\n",
      "594000    False\n",
      "597600     True\n",
      "601200     True\n",
      "604800     True\n",
      "Name: 335, Length: 169, dtype: bool\n"
     ]
    }
   ],
   "source": [
    "# get when tank water level is greater than the threshold\n",
    "I = results_pump > 0 \n",
    "print(I)"
   ]
  },
  {
   "cell_type": "code",
   "execution_count": 57,
   "metadata": {},
   "outputs": [
    {
     "name": "stdout",
     "output_type": "stream",
     "text": [
      "Number of time steps the pump is ON = 43\n"
     ]
    }
   ],
   "source": [
    "# print it nicely\n",
    "\n",
    "print(f'Number of time steps the pump is ON = {sum(I)}')"
   ]
  },
  {
   "cell_type": "code",
   "execution_count": 58,
   "metadata": {},
   "outputs": [
    {
     "name": "stdout",
     "output_type": "stream",
     "text": [
      "Number of time steps the pump is OFF = 126\n"
     ]
    }
   ],
   "source": [
    "print(f'Number of time steps the pump is OFF = {sum(~I)}')"
   ]
  },
  {
   "cell_type": "code",
   "execution_count": 60,
   "metadata": {},
   "outputs": [
    {
     "name": "stdout",
     "output_type": "stream",
     "text": [
      "Number of time steps the pump is OFF = 126\n"
     ]
    }
   ],
   "source": [
    "# OR\n",
    "\n",
    "print(f'Number of time steps the pump is OFF = {len(I) - sum(I)}')"
   ]
  },
  {
   "cell_type": "code",
   "execution_count": 61,
   "metadata": {},
   "outputs": [
    {
     "data": {
      "image/png": "[encoded data removed]",
      "text/plain": [
       "<Figure size 640x480 with 1 Axes>"
      ]
     },
     "metadata": {},
     "output_type": "display_data"
    }
   ],
   "source": [
    "# plot\n",
    "\n",
    "plt.plot(time_hours, I, color='red', linewidth = 2, alpha = 0.5)\n",
    "plt.title(f'Pump {pump.name} is ON/OFF')\n",
    "plt.xlabel('Time (hours)')\n",
    "plt.show()"
   ]
  },
  {
   "cell_type": "markdown",
   "metadata": {},
   "source": [
    "## Let's plot two results on the same plot"
   ]
  },
  {
   "cell_type": "code",
   "execution_count": null,
   "metadata": {},
   "outputs": [],
   "source": [
    "# 7.5\n",
    "tank_thr = 💡\n",
    "# get when tank water level is greater than the threshold\n",
    "I = results_tank > tank_thr\n",
    "plt.plot(time_hours, I, color='blue', linewidth = 2, alpha = 0.5)\n",
    "\n",
    "# 8.5\n",
    "tank_thr = 💡\n",
    "# get when tank water level is greater than the threshold\n",
    "I = results_tank > tank_thr\n",
    "plt.plot(time_hours, I, color='red', linewidth = 2, alpha = 0.5)\n",
    "plt.xlabel('Time (hours)')\n",
    "plt.legend(['7.5','8.5'], loc='best')  \n",
    "plt.title(f'Tank performance')\n",
    "plt.show()\n"
   ]
  },
  {
   "cell_type": "markdown",
   "metadata": {},
   "source": [
    "# Loops\n",
    "We often need to loop over multiple elements to modify network components or run stochastic simulations. In this example, we'll loop over all junctions and get the base demand. You can then use similar approach and tailor it to your specific task."
   ]
  },
  {
   "cell_type": "code",
   "execution_count": 63,
   "metadata": {},
   "outputs": [
    {
     "name": "stdout",
     "output_type": "stream",
     "text": [
      "0\n",
      "1\n",
      "2\n",
      "3\n",
      "4\n",
      "5\n",
      "6\n",
      "7\n"
     ]
    }
   ],
   "source": [
    "# first let's revisit a simple loop. you've already seen this in previous lectures\n",
    "# we can loop using range \n",
    "\n",
    "for i in range(8):\n",
    "        print(i)"
   ]
  },
  {
   "cell_type": "code",
   "execution_count": 64,
   "metadata": {},
   "outputs": [
    {
     "name": "stdout",
     "output_type": "stream",
     "text": [
      "20\n",
      "18\n",
      "16\n",
      "14\n",
      "12\n",
      "10\n",
      "8\n"
     ]
    }
   ],
   "source": [
    "# we can adjust start, and step size\n",
    "for i in range(20, 7,-2):\n",
    "        print(i)"
   ]
  },
  {
   "cell_type": "markdown",
   "metadata": {},
   "source": [
    "Now, let's apply same concept to get demands for multiple junctions. \n",
    "* let's recall how to do get demand for a single junction\n",
    "* then we'll automate by looping over multiple junctions"
   ]
  },
  {
   "cell_type": "code",
   "execution_count": 65,
   "metadata": {},
   "outputs": [
    {
     "name": "stdout",
     "output_type": "stream",
     "text": [
      "['10', '15', '20', '35', '40', '50', '60', '601', '61', '101', '103', '105', '107', '109', '111', '113', '115', '117', '119', '120', '121', '123', '125', '127', '129', '131', '139', '141', '143', '145', '147', '149', '151', '153', '157', '159', '161', '163', '164', '166', '167', '169', '171', '173', '177', '179', '181', '183', '184', '185', '187', '189', '191', '193', '195', '197', '199', '201', '203', '204', '205', '206', '207', '208', '209', '211', '213', '215', '217', '219', '225', '229', '231', '237', '239', '241', '243', '247', '249', '251', '253', '255', '257', '259', '261', '263', '265', '267', '269', '271', '273', '275']\n"
     ]
    }
   ],
   "source": [
    "# get junction names\n",
    "node_names = wn.junction_name_list \n",
    "print(node_names)"
   ]
  },
  {
   "cell_type": "code",
   "execution_count": 67,
   "metadata": {},
   "outputs": [
    {
     "name": "stdout",
     "output_type": "stream",
     "text": [
      "1\n"
     ]
    }
   ],
   "source": [
    "# get choose specific junction\n",
    "\n",
    "# let's use junction 15 as an example\n",
    "\n",
    "i = node_names.index('15') # find the index of '109'\n",
    "print(i)"
   ]
  },
  {
   "cell_type": "code",
   "execution_count": 74,
   "metadata": {},
   "outputs": [
    {
     "data": {
      "text/plain": [
       "<Junction '103', elevation=13.1064, demand_timeseries_list=<Demands: [<TimeSeries: base_value=0.00840361416048, pattern_name='1', category='None'>]>>"
      ]
     },
     "execution_count": 74,
     "metadata": {},
     "output_type": "execute_result"
    }
   ],
   "source": [
    "i = 10\n",
    "\n",
    "temp_node = wn.get_node(node_names[i])\n",
    "temp_node"
   ]
  },
  {
   "cell_type": "code",
   "execution_count": 75,
   "metadata": {},
   "outputs": [
    {
     "data": {
      "text/plain": [
       "0.00840361416048"
      ]
     },
     "execution_count": 75,
     "metadata": {},
     "output_type": "execute_result"
    }
   ],
   "source": [
    "base_demand = temp_node.demand_timeseries_list[0].base_value \n",
    "base_demand"
   ]
  },
  {
   "cell_type": "code",
   "execution_count": 76,
   "metadata": {},
   "outputs": [
    {
     "name": "stdout",
     "output_type": "stream",
     "text": [
      "Node ID:  103 ; Base demand =  0.00840361416048\n"
     ]
    }
   ],
   "source": [
    "print('Node ID: ' , temp_node.name, '; Base demand = ', base_demand)"
   ]
  },
  {
   "cell_type": "code",
   "execution_count": 77,
   "metadata": {},
   "outputs": [
    {
     "name": "stdout",
     "output_type": "stream",
     "text": [
      "Node ID:  10 ; Base demand =  0.0\n",
      "Node ID:  15 ; Base demand =  6.30901964e-05\n",
      "Node ID:  20 ; Base demand =  0.0\n"
     ]
    }
   ],
   "source": [
    "# loop over first three junctions\n",
    "for i in range (3):\n",
    "    temp_node = wn.get_node(node_names[i])\n",
    "    base_demand = temp_node.demand_timeseries_list[0].base_value\n",
    "    print('Node ID: ' , temp_node, '; Base demand = ', base_demand)\n",
    "\n",
    "#    for i in range (len(node_names)):"
   ]
  },
  {
   "cell_type": "code",
   "execution_count": 78,
   "metadata": {},
   "outputs": [
    {
     "name": "stdout",
     "output_type": "stream",
     "text": [
      "Node ID:  10 ; Base demand =  0.0\n",
      "Node ID:  15 ; Base demand =  6.30901964e-05\n",
      "Node ID:  20 ; Base demand =  0.0\n",
      "Node ID:  35 ; Base demand =  6.30901964e-05\n",
      "Node ID:  40 ; Base demand =  0.0\n",
      "Node ID:  50 ; Base demand =  0.0\n",
      "Node ID:  60 ; Base demand =  0.0\n",
      "Node ID:  601 ; Base demand =  0.0\n",
      "Node ID:  61 ; Base demand =  0.0\n",
      "Node ID:  101 ; Base demand =  0.01198398280618\n",
      "Node ID:  103 ; Base demand =  0.00840361416048\n",
      "Node ID:  105 ; Base demand =  0.008540519886668001\n",
      "Node ID:  107 ; Base demand =  0.003447248331296\n",
      "Node ID:  109 ; Base demand =  0.014599071446960002\n",
      "Node ID:  111 ; Base demand =  0.008955022477016\n",
      "Node ID:  113 ; Base demand =  0.001262434829964\n",
      "Node ID:  115 ; Base demand =  0.00328699923244\n",
      "Node ID:  117 ; Base demand =  0.007426347018244\n",
      "Node ID:  119 ; Base demand =  0.011112076291932\n",
      "Node ID:  120 ; Base demand =  0.0\n",
      "Node ID:  121 ; Base demand =  0.002626444876132\n",
      "Node ID:  123 ; Base demand =  6.30901964e-05\n",
      "Node ID:  125 ; Base demand =  0.00287691295584\n",
      "Node ID:  127 ; Base demand =  0.001114172868424\n",
      "Node ID:  129 ; Base demand =  0.0\n",
      "Node ID:  131 ; Base demand =  0.0026971058961\n",
      "Node ID:  139 ; Base demand =  0.000371601256796\n",
      "Node ID:  141 ; Base demand =  0.00062143843454\n",
      "Node ID:  143 ; Base demand =  0.00039115921768000003\n",
      "Node ID:  145 ; Base demand =  0.001743182126532\n",
      "Node ID:  147 ; Base demand =  0.0005394211792200001\n",
      "Node ID:  149 ; Base demand =  0.0017078516165480002\n",
      "Node ID:  151 ; Base demand =  0.009115271575872\n",
      "Node ID:  153 ; Base demand =  0.0027866939749880003\n",
      "Node ID:  157 ; Base demand =  0.003267441271556\n",
      "Node ID:  159 ; Base demand =  0.0026068869152480003\n",
      "Node ID:  161 ; Base demand =  0.0009968251031200002\n",
      "Node ID:  163 ; Base demand =  0.000594309650088\n",
      "Node ID:  164 ; Base demand =  0.0\n",
      "Node ID:  166 ; Base demand =  0.00016403451064\n",
      "Node ID:  167 ; Base demand =  0.0009185932595840001\n",
      "Node ID:  169 ; Base demand =  0.0\n",
      "Node ID:  171 ; Base demand =  0.002481968326376\n",
      "Node ID:  173 ; Base demand =  0.0\n",
      "Node ID:  177 ; Base demand =  0.003669956724588\n",
      "Node ID:  179 ; Base demand =  0.0\n",
      "Node ID:  181 ; Base demand =  0.0\n",
      "Node ID:  183 ; Base demand =  0.0\n",
      "Node ID:  184 ; Base demand =  0.0\n",
      "Node ID:  185 ; Base demand =  0.00161826353766\n",
      "Node ID:  187 ; Base demand =  0.0\n",
      "Node ID:  189 ; Base demand =  0.006808693995488\n",
      "Node ID:  191 ; Base demand =  0.0051670870851600005\n",
      "Node ID:  193 ; Base demand =  0.004498961905284001\n",
      "Node ID:  195 ; Base demand =  0.0\n",
      "Node ID:  197 ; Base demand =  0.001075056946656\n",
      "Node ID:  199 ; Base demand =  0.007527922234448\n",
      "Node ID:  201 ; Base demand =  0.0028144536614040003\n",
      "Node ID:  203 ; Base demand =  6.30901964e-05\n",
      "Node ID:  204 ; Base demand =  0.0\n",
      "Node ID:  205 ; Base demand =  0.004123575236704\n",
      "Node ID:  206 ; Base demand =  0.0\n",
      "Node ID:  207 ; Base demand =  0.004377828728196\n",
      "Node ID:  208 ; Base demand =  0.0\n",
      "Node ID:  209 ; Base demand =  5.4888470868e-05\n",
      "Node ID:  211 ; Base demand =  0.000546992002788\n",
      "Node ID:  213 ; Base demand =  0.000879477337816\n",
      "Node ID:  215 ; Base demand =  0.005816285206116\n",
      "Node ID:  217 ; Base demand =  0.001528044556808\n",
      "Node ID:  219 ; Base demand =  0.0026068869152480003\n",
      "Node ID:  225 ; Base demand =  0.00143845647792\n",
      "Node ID:  229 ; Base demand =  0.004049128804952001\n",
      "Node ID:  231 ; Base demand =  0.0010397264366720001\n",
      "Node ID:  237 ; Base demand =  0.000984837965804\n",
      "Node ID:  239 ; Base demand =  0.0028144536614040003\n",
      "Node ID:  241 ; Base demand =  0.0\n",
      "Node ID:  243 ; Base demand =  0.000273811452376\n",
      "Node ID:  247 ; Base demand =  0.004440288022632\n",
      "Node ID:  249 ; Base demand =  0.0\n",
      "Node ID:  251 ; Base demand =  0.001524259145024\n",
      "Node ID:  253 ; Base demand =  0.003439677507728\n",
      "Node ID:  255 ; Base demand =  0.0025482130325960002\n",
      "Node ID:  257 ; Base demand =  0.0\n",
      "Node ID:  259 ; Base demand =  0.0\n",
      "Node ID:  261 ; Base demand =  0.0\n",
      "Node ID:  263 ; Base demand =  0.0\n",
      "Node ID:  265 ; Base demand =  0.0\n",
      "Node ID:  267 ; Base demand =  0.0\n",
      "Node ID:  269 ; Base demand =  0.0\n",
      "Node ID:  271 ; Base demand =  0.0\n",
      "Node ID:  273 ; Base demand =  0.0\n",
      "Node ID:  275 ; Base demand =  0.0\n"
     ]
    }
   ],
   "source": [
    "# loop over all junctions\n",
    "for i in range (len(node_names)):\n",
    "    temp_node = wn.get_node(node_names[i])\n",
    "    base_demand = temp_node.demand_timeseries_list[0].base_value\n",
    "    print('Node ID: ' , temp_node, '; Base demand = ', base_demand)"
   ]
  },
  {
   "cell_type": "code",
   "execution_count": null,
   "metadata": {},
   "outputs": [],
   "source": []
  },
  {
   "cell_type": "code",
   "execution_count": null,
   "metadata": {},
   "outputs": [],
   "source": []
  }
 ],
 "metadata": {
  "kernelspec": {
   "display_name": "Python 3 (ipykernel)",
   "language": "python",
   "name": "python3"
  },
  "language_info": {
   "codemirror_mode": {
    "name": "ipython",
    "version": 3
   },
   "file_extension": ".py",
   "mimetype": "text/x-python",
   "name": "python",
   "nbconvert_exporter": "python",
   "pygments_lexer": "ipython3",
   "version": "3.9.21"
  },
  "toc-autonumbering": true,
  "vscode": {
   "interpreter": {
    "hash": "45e5fc2add644b17ca9d771f06d4d0791b1baf8fc0ad9b13d75afaf563ce7ce4"
   }
  }
 },
 "nbformat": 4,
 "nbformat_minor": 4
}
