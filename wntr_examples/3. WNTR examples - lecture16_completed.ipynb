{
 "cells": [
  {
   "cell_type": "markdown",
   "metadata": {
    "tags": []
   },
   "source": [
    "# WNTR Additional Examples\n",
    "Here, we will have a few more advanced examples using WNTR focusing on modifying settings and analyzing results:\n",
    "\n",
    "1. Basic example\n",
    "2. Basic data processing\n",
    "3. Loops\n",
    "\n",
    "TODO: 💡"
   ]
  },
  {
   "cell_type": "markdown",
   "metadata": {
    "slideshow": {
     "slide_type": ""
    },
    "tags": []
   },
   "source": [
    "## Imports\n",
    "Install and import WNTR and additional Python packages that are needed for the tutorial\n",
    "- Numpy is required to define comparison operators (i.e., np.greater) in queries\n",
    "- Matplotlib is required to create graphics"
   ]
  },
  {
   "cell_type": "code",
   "execution_count": null,
   "metadata": {},
   "outputs": [],
   "source": [
    "# Install required packages if not already available\n",
    "try:\n",
    "    import wntr\n",
    "except ImportError:\n",
    "    !pip install wntr\n",
    "    import wntr  # import again after installation"
   ]
  },
  {
   "cell_type": "code",
   "execution_count": null,
   "metadata": {},
   "outputs": [],
   "source": [
    "import numpy as np\n",
    "import matplotlib.pyplot as plt"
   ]
  },
  {
   "cell_type": "markdown",
   "metadata": {},
   "source": [
    "## Units\n",
    "WNTR uses **SI (International System) units (length in meters, time in seconds, mass in kilograms)**.  See https://usepa.github.io/WNTR/units.html for more details."
   ]
  },
  {
   "cell_type": "markdown",
   "metadata": {
    "tags": []
   },
   "source": [
    "# Basic example"
   ]
  },
  {
   "cell_type": "markdown",
   "metadata": {},
   "source": [
    "Recall: basics steps:\n",
    "1. set pat of the .inp file\n",
    "2. initialize wntr model\n",
    "3. run simulation\n",
    "4. get results"
   ]
  },
  {
   "cell_type": "code",
   "execution_count": null,
   "metadata": {
    "tags": []
   },
   "outputs": [],
   "source": [
    "# Create a WaterNetworkModel from an EPANET INP file\n",
    "wn = wntr.network.WaterNetworkModel('networks/Net3.inp')"
   ]
  },
  {
   "cell_type": "code",
   "execution_count": null,
   "metadata": {},
   "outputs": [],
   "source": [
    "# Simulate hydraulics using EPANET\n",
    "sim = wntr.sim.EpanetSimulator(wn)\n",
    "results_EPANET = sim.run_sim()"
   ]
  },
  {
   "cell_type": "markdown",
   "metadata": {
    "tags": []
   },
   "source": [
    "Simulation results are stored in an object which includes a dictionary of DataFrames for nodes and a dictionary of DataFrames for links.  Each DataFrame is indexed by time (in seconds) and the columns are node or link names."
   ]
  },
  {
   "cell_type": "code",
   "execution_count": null,
   "metadata": {},
   "outputs": [],
   "source": [
    "# Print available node results\n",
    "results_EPANET.node.keys()"
   ]
  },
  {
   "cell_type": "code",
   "execution_count": null,
   "metadata": {},
   "outputs": [],
   "source": [
    "# Print available link results\n",
    "results_EPANET.link.keys()"
   ]
  },
  {
   "cell_type": "code",
   "execution_count": null,
   "metadata": {},
   "outputs": [],
   "source": [
    "# View EpanetSimulator pressure results\n",
    "results_EPANET.node['pressure'].head()"
   ]
  },
  {
   "cell_type": "code",
   "execution_count": null,
   "metadata": {},
   "outputs": [],
   "source": [
    "# View EpanetSimulator flow results\n",
    "results_EPANET.link['flowrate'].head()"
   ]
  },
  {
   "cell_type": "code",
   "execution_count": null,
   "metadata": {},
   "outputs": [],
   "source": [
    "# get pressure at specific node\n",
    "results_EPANET.node['pressure'].loc[:,'20'] "
   ]
  },
  {
   "cell_type": "code",
   "execution_count": null,
   "metadata": {},
   "outputs": [],
   "source": [
    "results_pressure = results_EPANET.node['pressure'].loc[:,'20'] \n",
    "time_hours = results_pressure.index/3600 \n",
    "time_hours"
   ]
  },
  {
   "cell_type": "code",
   "execution_count": null,
   "metadata": {},
   "outputs": [],
   "source": [
    "# plot using matplotlib\n",
    "# pressure junction '20'\n",
    "# -----------------------------------------------------\n",
    "results_pressure = results_EPANET.node['pressure'].loc[:,'20'] \n",
    "time_hours = results_pressure.index / 3600\n",
    "plt.plot( time_hours, results_pressure , linewidth=2, alpha=0.5)\n",
    "# Formatting the plot\n",
    "plt.xlabel('Time (hours)')\n",
    "plt.ylabel('Pressure head (m)')\n",
    "plt.legend('20', title='Junction', loc='best')\n",
    "plt.savefig('0_pressure.png', dpi = 400)\n",
    "plt.show()\n"
   ]
  },
  {
   "cell_type": "code",
   "execution_count": null,
   "metadata": {},
   "outputs": [],
   "source": [
    "results_flow = results_EPANET.link['flowrate'].loc[:,'50'] "
   ]
  },
  {
   "cell_type": "code",
   "execution_count": null,
   "metadata": {},
   "outputs": [],
   "source": [
    "# plot using matplotlib\n",
    "# flow rate pipe '50'\n",
    "# -----------------------------------------------------\n",
    "results_flow = results_EPANET.link['flowrate'].loc[:,'50'] \n",
    "plt.plot( time_hours , results_flow, color = 'red', linewidth = 2, alpha = 0.5)\n",
    "# Formatting the plot\n",
    "plt.xlabel('Time (hours)')\n",
    "plt.ylabel('Flowrate (cms)')\n",
    "plt.legend(['50'], title='Pipe', loc='best')\n",
    "plt.savefig('0_flow.png', dpi = 400)\n",
    "plt.show()"
   ]
  },
  {
   "cell_type": "markdown",
   "metadata": {},
   "source": [
    "**Let's plot pressures for two nodes on the same plot**"
   ]
  },
  {
   "cell_type": "code",
   "execution_count": null,
   "metadata": {},
   "outputs": [],
   "source": [
    "# pressures at junctions 20 and 107\n",
    "# -----------------------------------------------------\n",
    "results_pressure = results_EPANET.node['pressure'].loc[:,'20'] \n",
    "plt.plot(time_hours,  results_pressure,  color = 'magenta', linewidth=2, alpha=0.5)\n",
    "\n",
    "results_pressure = results_EPANET.node['pressure'].loc[:,'107'] \n",
    "plt.plot(time_hours, results_pressure,  color = 'green', linewidth=2, alpha=0.5)\n",
    "# Formatting the plot\n",
    "plt.xlabel('Time (hours)')\n",
    "plt.ylabel('Pressure head (m)')\n",
    "plt.legend(['20','107'], title='Junction', loc='best')\n",
    "plt.show()"
   ]
  },
  {
   "cell_type": "markdown",
   "metadata": {},
   "source": [
    "# Basic data processing\n",
    "In this example, you will:\n",
    "1. Generate a time-series plot showing  pump flow rate and the tank water level.\n",
    "2. Plot the tank water level highlighting when it exceeds a chosen threshold and report how many times this occurs.\n",
    "3. Plot the pump’s ON/OFF status over time and report how many times the pump turns ON.\n",
    "\n",
    "You will learn how to reference elements in a more general way, which is especially useful for automating simulations and writing adaptable, reusable code."
   ]
  },
  {
   "cell_type": "markdown",
   "metadata": {},
   "source": [
    "## Part 1 - plot pump and tank"
   ]
  },
  {
   "cell_type": "code",
   "execution_count": null,
   "metadata": {},
   "outputs": [],
   "source": [
    "# Import .inp and run simulation\n",
    "inp = 'networks/Net3.inp'\n",
    "wn = wntr.network.WaterNetworkModel(inp)\n",
    "sim = wntr.sim.EpanetSimulator(wn)\n",
    "results = sim.run_sim()"
   ]
  },
  {
   "cell_type": "markdown",
   "metadata": {},
   "source": [
    "**Let's start with the pumps**"
   ]
  },
  {
   "cell_type": "code",
   "execution_count": null,
   "metadata": {},
   "outputs": [],
   "source": [
    "# get pump list\n",
    "print(\"Pump names\", wn.pump_name_list)"
   ]
  },
  {
   "cell_type": "code",
   "execution_count": null,
   "metadata": {},
   "outputs": [],
   "source": [
    "# let's define unit conversion so we can display results in gpm\n",
    "units = 15850.3 # cms to gpm"
   ]
  },
  {
   "cell_type": "code",
   "execution_count": null,
   "metadata": {},
   "outputs": [],
   "source": [
    "# select pump based on it's ID\n",
    "pump = wn.get_link('10')\n",
    "print(pump)    # recall this will print the name of the pump\n",
    "pump           # recall this will print the variable with all its attributes which is useful when developing the code"
   ]
  },
  {
   "cell_type": "code",
   "execution_count": null,
   "metadata": {},
   "outputs": [],
   "source": [
    "# often times we would like to automate our code and use indexes instead of names (we will see a few examples later)\n",
    "# this will produce the same result as above but using index instead of name\n",
    "\n",
    "# select pump index\n",
    "i = 1\n",
    "wn.pump_name_list[i]"
   ]
  },
  {
   "cell_type": "code",
   "execution_count": null,
   "metadata": {},
   "outputs": [],
   "source": [
    "pump = wn.get_link(wn.pump_name_list[i])\n",
    "pump"
   ]
  },
  {
   "cell_type": "code",
   "execution_count": null,
   "metadata": {},
   "outputs": [],
   "source": [
    "# get pump flow \n",
    "#---------------------------------------------------------\n",
    "# note how we are getting pump results by using the variable\n",
    "\n",
    "results_pump = results.link['flowrate']['335']*units # this gives pump flowrate, but we have to manualy specify pump name\n",
    "\n",
    "results_pump = results.link['flowrate'][pump.name]*units # this gives pump flowrate but without having to manualy specify the pump\n",
    "\n",
    "results_pump"
   ]
  },
  {
   "cell_type": "code",
   "execution_count": null,
   "metadata": {},
   "outputs": [],
   "source": [
    "# plot\n",
    "#---------------------------------------------------------\n",
    "time_hours = results_pump.index / 3600  # Convert seconds to hours\n",
    "plt.plot(time_hours, results_pump, color = 'red', linewidth = 2, alpha = 0.5)\n",
    "# Formatting the plot\n",
    "plt.xlabel('Time (hours)')\n",
    "plt.ylabel('Flowrate (gpm)')\n",
    "plt.legend([pump.name], loc='best')   # this also allows make general and reusable figure legend, titles\n",
    "plt.title('Pump flow ' + pump.name)\n",
    "plt.show()"
   ]
  },
  {
   "cell_type": "markdown",
   "metadata": {},
   "source": [
    "**Let's do the same for tanks**\n"
   ]
  },
  {
   "cell_type": "code",
   "execution_count": null,
   "metadata": {},
   "outputs": [],
   "source": [
    "# get tank list\n",
    "print('Tank names', wn.tank_name_list)"
   ]
  },
  {
   "cell_type": "code",
   "execution_count": null,
   "metadata": {},
   "outputs": [],
   "source": [
    "# select a tank\n",
    "i = 0\n",
    "tank = wn.get_node(wn.tank_name_list[i])\n",
    "tank"
   ]
  },
  {
   "cell_type": "code",
   "execution_count": null,
   "metadata": {},
   "outputs": [],
   "source": [
    "# get tank water level and plot\n",
    "\n",
    "results_tank = results.node['pressure'][tank.name]\n",
    "\n",
    "plt.plot(time_hours, results_tank, color = 'blue', linewidth = 2, alpha = 0.5)\n",
    "# Formatting the plot\n",
    "plt.xlabel('Time (hours)')\n",
    "plt.ylabel('Tank water level (m)')\n",
    "plt.legend([tank.name], loc='best') \n",
    "plt.title('Tank water level ' + tank.name)"
   ]
  },
  {
   "cell_type": "markdown",
   "metadata": {},
   "source": [
    "## Part 2 - tank performance\n",
    "Plot the tank water level highlighting when it exceeds a chosen threshold and report how many times this occurs."
   ]
  },
  {
   "cell_type": "code",
   "execution_count": null,
   "metadata": {},
   "outputs": [],
   "source": [
    "results_tank = results.node['pressure'][tank.name]\n",
    "results_tank"
   ]
  },
  {
   "cell_type": "code",
   "execution_count": null,
   "metadata": {},
   "outputs": [],
   "source": [
    "# set threshold\n",
    "tank_thr = 5.5\n",
    "# get when tank water level is greater than the threshold\n",
    "I = results_tank > tank_thr\n",
    "print(I)"
   ]
  },
  {
   "cell_type": "code",
   "execution_count": null,
   "metadata": {},
   "outputs": [],
   "source": [
    "# get the number of times tank level is above threshold\n",
    "sum(I)"
   ]
  },
  {
   "cell_type": "markdown",
   "metadata": {},
   "source": [
    "Python treats `True` and `False` as numbers (`True == 1` and `False == 0`) that's why `sum(I)` gives you the number of times the condition is true"
   ]
  },
  {
   "cell_type": "code",
   "execution_count": null,
   "metadata": {},
   "outputs": [],
   "source": [
    "# print it nicely\n",
    "\n",
    "print(f'Number of time steps the tank is above {tank_thr} m is = {sum(I)}')"
   ]
  },
  {
   "cell_type": "code",
   "execution_count": null,
   "metadata": {},
   "outputs": [],
   "source": [
    "# plot\n",
    "\n",
    "plt.plot(time_hours, I, color='blue', linewidth = 2, alpha = 0.5)\n",
    "plt.title(f'Tank {tank.name} is above {tank_thr} m')\n",
    "plt.xlabel('Time (hours)')\n",
    "plt.show()"
   ]
  },
  {
   "cell_type": "markdown",
   "metadata": {},
   "source": [
    "Change the threshold see that the result makes sense:\n",
    "\n",
    "higher threshold -> fewer occurances\n",
    "\n",
    "lower thresshold -> more occrances\n"
   ]
  },
  {
   "cell_type": "markdown",
   "metadata": {},
   "source": [
    "## Part 3 - pump performance\n",
    "Plot the pump’s ON/OFF status over time and report how many times the pump turns ON."
   ]
  },
  {
   "cell_type": "code",
   "execution_count": null,
   "metadata": {},
   "outputs": [],
   "source": [
    "# get when tank water level is greater than the threshold\n",
    "I = results_pump > 0 \n",
    "print(I)"
   ]
  },
  {
   "cell_type": "code",
   "execution_count": null,
   "metadata": {},
   "outputs": [],
   "source": [
    "# print it nicely\n",
    "\n",
    "print(f'Number of time steps the pump is ON = {sum(I)}')"
   ]
  },
  {
   "cell_type": "code",
   "execution_count": null,
   "metadata": {},
   "outputs": [],
   "source": [
    "print(f'Number of time steps the pump is OFF = {sum(~I)}')"
   ]
  },
  {
   "cell_type": "code",
   "execution_count": null,
   "metadata": {},
   "outputs": [],
   "source": [
    "# OR\n",
    "\n",
    "print(f'Number of time steps the pump is OFF = {len(I) - sum(I)}')"
   ]
  },
  {
   "cell_type": "code",
   "execution_count": null,
   "metadata": {},
   "outputs": [],
   "source": [
    "# plot\n",
    "\n",
    "plt.plot(time_hours, I, color='red', linewidth = 2, alpha = 0.5)\n",
    "plt.title(f'Pump {pump.name} is ON/OFF')\n",
    "plt.xlabel('Time (hours)')\n",
    "plt.show()"
   ]
  },
  {
   "cell_type": "markdown",
   "metadata": {},
   "source": [
    "## Let's plot two results on the same plot"
   ]
  },
  {
   "cell_type": "code",
   "execution_count": null,
   "metadata": {},
   "outputs": [],
   "source": [
    "# 7.5\n",
    "tank_thr = 💡\n",
    "# get when tank water level is greater than the threshold\n",
    "I = results_tank > tank_thr\n",
    "plt.plot(time_hours, I, color='blue', linewidth = 2, alpha = 0.5)\n",
    "\n",
    "# 8.5\n",
    "tank_thr = 💡\n",
    "# get when tank water level is greater than the threshold\n",
    "I = results_tank > tank_thr\n",
    "plt.plot(time_hours, I, color='red', linewidth = 2, alpha = 0.5)\n",
    "plt.xlabel('Time (hours)')\n",
    "plt.legend(['7.5','8.5'], loc='best')  \n",
    "plt.title(f'Tank performance')\n",
    "plt.show()\n"
   ]
  },
  {
   "cell_type": "markdown",
   "metadata": {},
   "source": [
    "# Loops\n",
    "We often need to loop over multiple elements to modify network components or run stochastic simulations. In this example, we'll loop over all junctions and get the base demand. You can then use similar approach and tailor it to your specific task."
   ]
  },
  {
   "cell_type": "code",
   "execution_count": null,
   "metadata": {},
   "outputs": [],
   "source": [
    "# first let's revisit a simple loop. you've already seen this in previous lectures\n",
    "# we can loop using range \n",
    "\n",
    "for i in range(8):\n",
    "        print(i)"
   ]
  },
  {
   "cell_type": "code",
   "execution_count": null,
   "metadata": {},
   "outputs": [],
   "source": [
    "# we can adjust start, and step size\n",
    "for i in range(20, 7,-2):\n",
    "        print(i)"
   ]
  },
  {
   "cell_type": "markdown",
   "metadata": {},
   "source": [
    "Now, let's apply same concept to get demands for multiple junctions. \n",
    "* let's recall how to do get demand for a single junction\n",
    "* then we'll automate by looping over multiple junctions"
   ]
  },
  {
   "cell_type": "code",
   "execution_count": null,
   "metadata": {},
   "outputs": [],
   "source": [
    "# get junction names\n",
    "node_names = wn.junction_name_list \n",
    "print(node_names)"
   ]
  },
  {
   "cell_type": "code",
   "execution_count": null,
   "metadata": {},
   "outputs": [],
   "source": [
    "# get choose specific junction\n",
    "\n",
    "# let's use junction 15 as an example\n",
    "\n",
    "i = node_names.index('15') # find the index of '109'\n",
    "print(i)"
   ]
  },
  {
   "cell_type": "code",
   "execution_count": null,
   "metadata": {},
   "outputs": [],
   "source": [
    "i = 10\n",
    "\n",
    "temp_node = wn.get_node(node_names[i])\n",
    "temp_node"
   ]
  },
  {
   "cell_type": "code",
   "execution_count": null,
   "metadata": {},
   "outputs": [],
   "source": [
    "base_demand = temp_node.demand_timeseries_list[0].base_value \n",
    "base_demand"
   ]
  },
  {
   "cell_type": "code",
   "execution_count": null,
   "metadata": {},
   "outputs": [],
   "source": [
    "print('Node ID: ' , temp_node.name, '; Base demand = ', base_demand)"
   ]
  },
  {
   "cell_type": "code",
   "execution_count": null,
   "metadata": {},
   "outputs": [],
   "source": [
    "# loop over first three junctions\n",
    "for i in range (3):\n",
    "    temp_node = wn.get_node(node_names[i])\n",
    "    base_demand = temp_node.demand_timeseries_list[0].base_value\n",
    "    print('Node ID: ' , temp_node, '; Base demand = ', base_demand)\n",
    "\n",
    "#    for i in range (len(node_names)):"
   ]
  },
  {
   "cell_type": "code",
   "execution_count": null,
   "metadata": {},
   "outputs": [],
   "source": [
    "# loop over all junctions\n",
    "for i in range (len(node_names)):\n",
    "    temp_node = wn.get_node(node_names[i])\n",
    "    base_demand = temp_node.demand_timeseries_list[0].base_value\n",
    "    print('Node ID: ' , temp_node, '; Base demand = ', base_demand)"
   ]
  },
  {
   "cell_type": "code",
   "execution_count": null,
   "metadata": {},
   "outputs": [],
   "source": []
  },
  {
   "cell_type": "code",
   "execution_count": null,
   "metadata": {},
   "outputs": [],
   "source": []
  }
 ],
 "metadata": {
  "kernelspec": {
   "display_name": "Python 3 (ipykernel)",
   "language": "python",
   "name": "python3"
  },
  "language_info": {
   "codemirror_mode": {
    "name": "ipython",
    "version": 3
   },
   "file_extension": ".py",
   "mimetype": "text/x-python",
   "name": "python",
   "nbconvert_exporter": "python",
   "pygments_lexer": "ipython3",
   "version": "3.9.21"
  },
  "toc-autonumbering": true,
  "vscode": {
   "interpreter": {
    "hash": "45e5fc2add644b17ca9d771f06d4d0791b1baf8fc0ad9b13d75afaf563ce7ce4"
   }
  }
 },
 "nbformat": 4,
 "nbformat_minor": 4
}
