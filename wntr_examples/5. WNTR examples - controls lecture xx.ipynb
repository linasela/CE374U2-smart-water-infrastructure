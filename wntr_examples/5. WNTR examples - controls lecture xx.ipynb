{
 "cells": [
  {
   "cell_type": "markdown",
   "metadata": {
    "tags": []
   },
   "source": [
    "# WNTR Additional Examples\n",
    "Here, we will have a few more advanced examples using WNTR focusing on modifying settings and analyzing results:\n",
    "\n",
    "1. Event-based controls\n",
    "2. Time-based controls\n",
    "\n",
    "We will also see how to save the modified `.inp` file\n"
   ]
  },
  {
   "cell_type": "markdown",
   "metadata": {
    "slideshow": {
     "slide_type": ""
    },
    "tags": []
   },
   "source": [
    "## Imports\n",
    "Install and import WNTR and additional Python packages that are needed for the tutorial\n",
    "- Numpy is required to define comparison operators (i.e., np.greater) in queries\n",
    "- Matplotlib is required to create graphics"
   ]
  },
  {
   "cell_type": "code",
   "execution_count": null,
   "metadata": {},
   "outputs": [],
   "source": [
    "# Install required packages if not already available\n",
    "try:\n",
    "    import wntr\n",
    "except ImportError:\n",
    "    !pip install wntr\n",
    "    import wntr  # import again after installation"
   ]
  },
  {
   "cell_type": "code",
   "execution_count": null,
   "metadata": {},
   "outputs": [],
   "source": [
    "import numpy as np\n",
    "import matplotlib.pyplot as plt"
   ]
  },
  {
   "cell_type": "markdown",
   "metadata": {},
   "source": [
    "## Units\n",
    "WNTR uses **SI (International System) units (length in meters, time in seconds, mass in kilograms)**.  See https://usepa.github.io/WNTR/units.html for more details."
   ]
  },
  {
   "cell_type": "markdown",
   "metadata": {},
   "source": [
    "# Event-based controls\n",
    "The `wntr.network.controls` module enables setting up, modifying, removing and adding controls.\n",
    "\n",
    "There are two types of control:\n",
    "* Event-based\n",
    "* Time-based\n",
    "\n",
    "The general process for setting up controls is to define:\n",
    "1. Actions (the actuator) `ControlAction`\n",
    "2. Condition (the trigger for the event) `ControlCondition`\n",
    "3. Control (actions + conditions) `Control`\n",
    "4. Add/Remove the control `remove_control`, `add_control`\n",
    "\n",
    "For example: `IF TANK 1 LEVEL ABOVE 5 THEN PIPE 330 STATUS IS OPEN`. Here:\n",
    "* Action - pump 330 open\n",
    "* Condition - tank 1 above 5\n",
    "* Control - if tank 1 above 5 then pump 330 open"
   ]
  },
  {
   "cell_type": "code",
   "execution_count": null,
   "metadata": {},
   "outputs": [],
   "source": [
    "# List properties and methods associated with the control (omitting private underscore names)\n",
    "[name for name in dir(wntr.network.controls) if not name.startswith('_')]"
   ]
  },
  {
   "cell_type": "markdown",
   "metadata": {},
   "source": [
    "## Import network model"
   ]
  },
  {
   "cell_type": "code",
   "execution_count": null,
   "metadata": {},
   "outputs": [],
   "source": [
    "# Create a WaterNetworkModel from an EPANET INP file\n",
    "inp = 'networks/Net3_controls.inp'\n",
    "wn = wntr.network.WaterNetworkModel(inp)\n",
    "CMS2GPM = 15850.3 # cms to gpm\n",
    "FT2M = 0.3048 # ft to m"
   ]
  },
  {
   "cell_type": "code",
   "execution_count": null,
   "metadata": {},
   "outputs": [],
   "source": [
    "# set simulation time to 48 hours\n",
    "wn.options.time.duration/3600"
   ]
  },
  {
   "cell_type": "code",
   "execution_count": null,
   "metadata": {},
   "outputs": [],
   "source": [
    "wn.options.time.duration = 48*3600\n",
    "print(wn.options.time.duration/3600)"
   ]
  },
  {
   "cell_type": "code",
   "execution_count": null,
   "metadata": {},
   "outputs": [],
   "source": [
    "# check hydraulic time step\n",
    "wn.options.time.hydraulic_timestep"
   ]
  },
  {
   "cell_type": "markdown",
   "metadata": {},
   "source": [
    "## Get current controls"
   ]
  },
  {
   "cell_type": "code",
   "execution_count": null,
   "metadata": {},
   "outputs": [],
   "source": [
    "# Print all controls\n",
    "for name, controls in wn.controls():\n",
    "    print(name, controls)"
   ]
  },
  {
   "cell_type": "markdown",
   "metadata": {},
   "source": [
    "## Let's modify the last four controls\n",
    "* `Pump 335 controlled by level in Tank 1`\n",
    "* `When pump is closed, bypass pipe is opened`\n",
    "* Link 335 OPEN IF Node 1 BELOW 17.1\n",
    "* Link 335 CLOSED IF Node 1 ABOVE 19.1\n",
    "* Link 330 CLOSED IF Node 1 BELOW 17.1\n",
    "* Link 330 OPEN IF Node 1 ABOVE 19.1\n",
    "* Note this is in ft"
   ]
  },
  {
   "cell_type": "code",
   "execution_count": null,
   "metadata": {},
   "outputs": [],
   "source": [
    "import wntr.network.controls as controls\n",
    "from wntr.network.controls import LinkStatus\n",
    "\n",
    "# we are doing this just so that we can write controls instead of wntr.network.controls"
   ]
  },
  {
   "cell_type": "code",
   "execution_count": null,
   "metadata": {},
   "outputs": [],
   "source": [
    "# get tank list\n",
    "print(\"Tank names\", wn.tank_name_list)\n",
    "\n",
    "# get pump list\n",
    "print(\"Pump names\", wn.pump_name_list)"
   ]
  },
  {
   "cell_type": "code",
   "execution_count": null,
   "metadata": {},
   "outputs": [],
   "source": [
    "# get the relevant elements\n",
    "pump = wn.get_link('335')\n",
    "tank = wn.get_node('1')\n",
    "bypass = wn.get_link('330')"
   ]
  },
  {
   "cell_type": "code",
   "execution_count": null,
   "metadata": {},
   "outputs": [],
   "source": [
    "# Define actions - pump\n",
    "open_action  = controls.ControlAction(pump, 'status', LinkStatus.Open)\n",
    "close_action = controls.ControlAction(pump, 'status', LinkStatus.Closed)\n"
   ]
  },
  {
   "cell_type": "code",
   "execution_count": null,
   "metadata": {},
   "outputs": [],
   "source": [
    "# Define conditions - tank\n",
    "low_level = 17.1\n",
    "high_level = 19.1\n",
    "low_cond  = controls.ValueCondition(tank, 'level', '<', low_level*FT2M)\n",
    "high_cond = controls.ValueCondition(tank, 'level', '>', high_level*FT2M)\n"
   ]
  },
  {
   "cell_type": "code",
   "execution_count": null,
   "metadata": {},
   "outputs": [],
   "source": [
    "# Define controls\n",
    "open_ctrl  = controls.Control(low_cond, open_action)   # open when low\n",
    "close_ctrl = controls.Control(high_cond, close_action) # close when high"
   ]
  },
  {
   "cell_type": "code",
   "execution_count": null,
   "metadata": {},
   "outputs": [],
   "source": [
    "# Replace existing pump controls 15–16 with new ones\n",
    "# wntr doesn't allow changing controls so we need to remove and then add new ones\n",
    "wn.remove_control('control 3')\n",
    "wn.remove_control('control 4')\n",
    "wn.add_control('control 3', open_ctrl)\n",
    "wn.add_control('control 4', close_ctrl)"
   ]
  },
  {
   "cell_type": "code",
   "execution_count": null,
   "metadata": {},
   "outputs": [],
   "source": [
    "# Lets check \n",
    "control3 = wn.get_control('control 3')\n",
    "control4 = wn.get_control('control 4')\n",
    "print(control3)\n",
    "print(control4)"
   ]
  },
  {
   "cell_type": "code",
   "execution_count": null,
   "metadata": {},
   "outputs": [],
   "source": [
    "# Define actions - bypass\n",
    "open_action  = controls.ControlAction(bypass, 'status', LinkStatus.Open)\n",
    "close_action = controls.ControlAction(bypass, 'status', LinkStatus.Closed)"
   ]
  },
  {
   "cell_type": "code",
   "execution_count": null,
   "metadata": {},
   "outputs": [],
   "source": [
    "# Define controls\n",
    "open_ctrl  = controls.Control(high_cond, open_action)\n",
    "close_ctrl = controls.Control(low_cond, close_action)"
   ]
  },
  {
   "cell_type": "code",
   "execution_count": null,
   "metadata": {},
   "outputs": [],
   "source": [
    "# Replace existing controls 17–18 with new ones\n",
    "wn.remove_control('control 5')\n",
    "wn.remove_control('control 6')\n",
    "wn.add_control('control 5', open_ctrl)\n",
    "wn.add_control('control 6', close_ctrl)"
   ]
  },
  {
   "cell_type": "code",
   "execution_count": null,
   "metadata": {},
   "outputs": [],
   "source": [
    "# Get a specific control object\n",
    "control5 = wn.get_control('control 5')\n",
    "control6 = wn.get_control('control 6')\n",
    "print(control5)\n",
    "print(control6)"
   ]
  },
  {
   "cell_type": "code",
   "execution_count": null,
   "metadata": {},
   "outputs": [],
   "source": [
    "# save new .inp file\n",
    "wntr.network.write_inpfile(wn,'networks/Net3_new_event_controls.inp')"
   ]
  },
  {
   "cell_type": "markdown",
   "metadata": {
    "jp-MarkdownHeadingCollapsed": true
   },
   "source": [
    "## Exercise: \n",
    "1. Change the conditions\n",
    "2. Run simulation with original and new controls and compare the results\n",
    "3. Explore the .inp file (check controls, units)"
   ]
  },
  {
   "cell_type": "markdown",
   "metadata": {},
   "source": [
    "# Time-based controls\n",
    "There are two time-based controls:\n",
    "* At clock time (daily) - `TimeOfDayCondition` Repeats every day at that time\n",
    "* At elapsed time (once) - `SimTimeCondition` Once at that simulation time\n",
    "  \n",
    "The process for setting up controls is similar to the event-based control. Define:\n",
    "1. Actions (the actuator) `ControlAction`\n",
    "2. Condition (time of the event) either `TimeOfDayCondition` or `SimTimeCondition`\n",
    "3. Control (actions + conditions) `Control`\n",
    "4. Add/Remove the control `remove_control`, `add_control`"
   ]
  },
  {
   "cell_type": "markdown",
   "metadata": {},
   "source": [
    "## At clock time (daily)"
   ]
  },
  {
   "cell_type": "code",
   "execution_count": null,
   "metadata": {},
   "outputs": [],
   "source": [
    "# Create a WaterNetworkModel from an EPANET INP file\n",
    "inp = 'networks/Net3_controls.inp'\n",
    "wn = wntr.network.WaterNetworkModel(inp)\n",
    "wn.options.time.duration = 48*3600  # set simulation to 48 hr\n",
    "CMS2GPM = 15850.3 # cms to gpm\n",
    "FT2M = 0.3048 # ft to m\n"
   ]
  },
  {
   "cell_type": "markdown",
   "metadata": {},
   "source": [
    "### Get current controls"
   ]
  },
  {
   "cell_type": "code",
   "execution_count": null,
   "metadata": {},
   "outputs": [],
   "source": [
    "# Get a specific control object\n",
    "control1 = wn.get_control('control 1')\n",
    "control2 = wn.get_control('control 2')\n",
    "print(control1)\n",
    "print(control2)"
   ]
  },
  {
   "cell_type": "markdown",
   "metadata": {},
   "source": [
    "### Let's change so pump opens at 6am and closes at 8pm"
   ]
  },
  {
   "cell_type": "code",
   "execution_count": null,
   "metadata": {},
   "outputs": [],
   "source": [
    "pump = wn.get_link('10')"
   ]
  },
  {
   "cell_type": "code",
   "execution_count": null,
   "metadata": {},
   "outputs": [],
   "source": [
    "# Define actions\n",
    "open_action  = controls.ControlAction(pump, 'status', LinkStatus.Open)\n",
    "close_action = controls.ControlAction(pump, 'status', LinkStatus.Closed)"
   ]
  },
  {
   "cell_type": "code",
   "execution_count": null,
   "metadata": {},
   "outputs": [],
   "source": [
    "# Define conditions for 2:00 AM and 6:00 PM (18:00)\n",
    "open_cond  = controls.TimeOfDayCondition(wn, '=', 2*3600)      # 2 hours * 3600 seconds/hour = 7200 seconds\n",
    "close_cond = controls.TimeOfDayCondition(wn, '=', 18*3600)     # 18 hours = 64800 seconds"
   ]
  },
  {
   "cell_type": "code",
   "execution_count": null,
   "metadata": {},
   "outputs": [],
   "source": [
    "# Define controls\n",
    "open_ctrl  = controls.Control(open_cond, open_action)\n",
    "close_ctrl = controls.Control(close_cond, close_action)"
   ]
  },
  {
   "cell_type": "code",
   "execution_count": null,
   "metadata": {},
   "outputs": [],
   "source": [
    "# Add new controls\n",
    "wn.remove_control('control 1')\n",
    "wn.remove_control('control 2')\n",
    "wn.add_control('control 1', open_ctrl)\n",
    "wn.add_control('control 2', close_ctrl)"
   ]
  },
  {
   "cell_type": "code",
   "execution_count": null,
   "metadata": {},
   "outputs": [],
   "source": [
    "# Get a specific control object\n",
    "control1 = wn.get_control('control 1')\n",
    "control2 = wn.get_control('control 2')\n",
    "print(control1)\n",
    "print(control2)"
   ]
  },
  {
   "cell_type": "code",
   "execution_count": null,
   "metadata": {},
   "outputs": [],
   "source": [
    "# save new .inp file\n",
    "wntr.network.write_inpfile(wn,'networks/Net3_new_time_controls_daily.inp')"
   ]
  },
  {
   "cell_type": "markdown",
   "metadata": {},
   "source": [
    "### Exercise:\n",
    "1. Validate pump controls\n",
    "2. Make a change and validate results again\n",
    "3. Explore the .inp file (check controls, units)"
   ]
  },
  {
   "cell_type": "markdown",
   "metadata": {},
   "source": [
    "##  At elapsed time (once)"
   ]
  },
  {
   "cell_type": "code",
   "execution_count": null,
   "metadata": {},
   "outputs": [],
   "source": [
    "\n",
    "# Define actions\n",
    "open_action  = controls.ControlAction(pump, 'status', LinkStatus.Open)\n",
    "close_action = controls.ControlAction(pump, 'status', LinkStatus.Closed)\n",
    "\n",
    "# Define conditions: elapsed time (in seconds)\n",
    "open_cond  = controls.SimTimeCondition(wn, '=', 2*3600)    # after 2 time steps of simulation\n",
    "close_cond = controls.SimTimeCondition(wn, '=', 18*3600)   # after 18 time steps of simulation\n",
    "\n",
    "# Define controls\n",
    "open_ctrl  = controls.Control(open_cond, open_action)\n",
    "close_ctrl = controls.Control(close_cond, close_action)\n",
    "\n",
    "# Add new controls\n",
    "wn.remove_control('control 1')\n",
    "wn.remove_control('control 2')\n",
    "wn.add_control('control 1', open_ctrl)\n",
    "wn.add_control('control 2', close_ctrl)"
   ]
  },
  {
   "cell_type": "code",
   "execution_count": null,
   "metadata": {},
   "outputs": [],
   "source": [
    "# Get a specific control object\n",
    "control1 = wn.get_control('control 1')\n",
    "control2 = wn.get_control('control 2')\n",
    "print(control1)\n",
    "print(control2)"
   ]
  },
  {
   "cell_type": "code",
   "execution_count": null,
   "metadata": {},
   "outputs": [],
   "source": [
    "# save new .inp file\n",
    "wntr.network.write_inpfile(wn,'networks/Net3_new_time_controls_once.inp')"
   ]
  },
  {
   "cell_type": "markdown",
   "metadata": {},
   "source": [
    "### Exercise:\n",
    "1. Validate pump controls\n",
    "2. Make a change and validate results again\n",
    "3. Explore the .inp file (check controls, units)"
   ]
  },
  {
   "cell_type": "code",
   "execution_count": null,
   "metadata": {},
   "outputs": [],
   "source": []
  }
 ],
 "metadata": {
  "kernelspec": {
   "display_name": "Python 3 (ipykernel)",
   "language": "python",
   "name": "python3"
  },
  "language_info": {
   "codemirror_mode": {
    "name": "ipython",
    "version": 3
   },
   "file_extension": ".py",
   "mimetype": "text/x-python",
   "name": "python",
   "nbconvert_exporter": "python",
   "pygments_lexer": "ipython3",
   "version": "3.9.21"
  },
  "toc-autonumbering": true,
  "vscode": {
   "interpreter": {
    "hash": "45e5fc2add644b17ca9d771f06d4d0791b1baf8fc0ad9b13d75afaf563ce7ce4"
   }
  }
 },
 "nbformat": 4,
 "nbformat_minor": 4
}
