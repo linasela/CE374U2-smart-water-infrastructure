{
 "cells": [
  {
   "cell_type": "markdown",
   "metadata": {
    "id": "e9NshFAa2STs",
    "tags": []
   },
   "source": [
    "# WNTR Additional Examples\n",
    "\n",
    "Here, we will have a more advanced example, using WNTR to run a stochastic simulation\n"
   ]
  },
  {
   "cell_type": "markdown",
   "metadata": {
    "id": "7fzZqtMQ2STu",
    "tags": []
   },
   "source": [
    "## Imports\n",
    "Install and import WNTR and additional Python packages that are needed for the tutorial\n",
    "- Numpy is required to define comparison operators (i.e., np.greater) in queries\n",
    "- Matplotlib is required to create graphics"
   ]
  },
  {
   "cell_type": "code",
   "execution_count": null,
   "metadata": {
    "executionInfo": {
     "elapsed": 1853,
     "status": "ok",
     "timestamp": 1761194463956,
     "user": {
      "displayName": "Isabel S Gonzalez-Garcia",
      "userId": "01238087311006006760"
     },
     "user_tz": 300
    },
    "id": "qdfD5eta2STv"
   },
   "outputs": [],
   "source": [
    "# Install required packages if not already available\n",
    "try:\n",
    "    import wntr\n",
    "except ImportError:\n",
    "    !pip install wntr\n",
    "    import wntr  # import again after installation"
   ]
  },
  {
   "cell_type": "code",
   "execution_count": null,
   "metadata": {
    "executionInfo": {
     "elapsed": 13,
     "status": "ok",
     "timestamp": 1761194469849,
     "user": {
      "displayName": "Isabel S Gonzalez-Garcia",
      "userId": "01238087311006006760"
     },
     "user_tz": 300
    },
    "id": "E4DQiXet2STy"
   },
   "outputs": [],
   "source": [
    "import numpy as np\n",
    "import matplotlib.pyplot as plt"
   ]
  },
  {
   "cell_type": "markdown",
   "metadata": {
    "id": "Ep3Iv6802STz"
   },
   "source": [
    "## Units\n",
    "WNTR uses **SI (International System) units (length in meters, time in seconds, mass in kilograms)**.  See https://usepa.github.io/WNTR/units.html for more details."
   ]
  },
  {
   "cell_type": "markdown",
   "metadata": {
    "id": "ukM_NZZO2ST0",
    "tags": []
   },
   "source": [
    "# Running a stochastic simulation\n",
    "Often, system conditions, such as consumer demands are dynamic and uncertain, requiring us to update simulations to account for these changes.\n",
    "In this example, we demonstrate how to model such uncertainty by randomly varying the demands and examining how this affects the tank water level.\n",
    "\n",
    "Main steps:\n",
    "1. Select a node of interest.\n",
    "2. Introduce random uncertainty in the demand, assuming a uniform distribution between 0.5 and 1.5 of the base demand.\n",
    "3. Run hydraulic simulations for both the original and modified demands.\n",
    "4. Plot the node demands and pressures, the tank water level, and the pump flow for comparison between the two conditions."
   ]
  },
  {
   "cell_type": "markdown",
   "metadata": {
    "id": "Ey_ryx-N2ST1"
   },
   "source": [
    "## Get node, tank, pump and run basic simulation"
   ]
  },
  {
   "cell_type": "code",
   "execution_count": null,
   "metadata": {
    "executionInfo": {
     "elapsed": 93,
     "status": "ok",
     "timestamp": 1761194478877,
     "user": {
      "displayName": "Isabel S Gonzalez-Garcia",
      "userId": "01238087311006006760"
     },
     "user_tz": 300
    },
    "id": "GuutAKGU2ST3"
   },
   "outputs": [],
   "source": [
    "# Import .inp and run simulation\n",
    "inp = '/content/Net3.inp'\n",
    "wn = wntr.network.WaterNetworkModel(inp)\n",
    "sim = wntr.sim.EpanetSimulator(wn)\n",
    "results_base = sim.run_sim() # this is the step that actually runs the simulation\n",
    "\n",
    "units = 15850.3 # cms to gpm"
   ]
  },
  {
   "cell_type": "code",
   "execution_count": null,
   "metadata": {
    "colab": {
     "base_uri": "https://localhost:8080/"
    },
    "executionInfo": {
     "elapsed": 13,
     "status": "ok",
     "timestamp": 1761194480870,
     "user": {
      "displayName": "Isabel S Gonzalez-Garcia",
      "userId": "01238087311006006760"
     },
     "user_tz": 300
    },
    "id": "mEM20kDh2ST4",
    "outputId": "1d4650ce-cea4-4269-89a4-60382008f0f8"
   },
   "outputs": [],
   "source": [
    "# get all node names\n",
    "node_names = wn.junction_name_list\n",
    "print(node_names)"
   ]
  },
  {
   "cell_type": "code",
   "execution_count": null,
   "metadata": {
    "colab": {
     "base_uri": "https://localhost:8080/"
    },
    "executionInfo": {
     "elapsed": 13,
     "status": "ok",
     "timestamp": 1761194482389,
     "user": {
      "displayName": "Isabel S Gonzalez-Garcia",
      "userId": "01238087311006006760"
     },
     "user_tz": 300
    },
    "id": "7a9PekVG2ST8",
    "outputId": "da853445-5dae-4c86-8994-8b1a69e5db46"
   },
   "outputs": [],
   "source": [
    "# let's use junction 109 as an example\n",
    "idx = node_names.index('109') # find the index of '109'\n",
    "idx"
   ]
  },
  {
   "cell_type": "code",
   "execution_count": null,
   "metadata": {
    "colab": {
     "base_uri": "https://localhost:8080/"
    },
    "executionInfo": {
     "elapsed": 334,
     "status": "ok",
     "timestamp": 1761194483256,
     "user": {
      "displayName": "Isabel S Gonzalez-Garcia",
      "userId": "01238087311006006760"
     },
     "user_tz": 300
    },
    "id": "ECwCV05PGGY-",
    "outputId": "4a54c02e-ec34-4910-d9c1-06bb40a96586"
   },
   "outputs": [],
   "source": [
    "from google.colab import drive\n",
    "drive.mount('/content/drive')"
   ]
  },
  {
   "cell_type": "code",
   "execution_count": null,
   "metadata": {
    "colab": {
     "base_uri": "https://localhost:8080/"
    },
    "executionInfo": {
     "elapsed": 4,
     "status": "ok",
     "timestamp": 1761194484933,
     "user": {
      "displayName": "Isabel S Gonzalez-Garcia",
      "userId": "01238087311006006760"
     },
     "user_tz": 300
    },
    "id": "F0mRaRvM2ST_",
    "outputId": "f9667db9-7372-4ff2-ba55-5cdfd4dee459"
   },
   "outputs": [],
   "source": [
    "# select this node\n",
    "node = wn.get_node(node_names[idx])\n",
    "node"
   ]
  },
  {
   "cell_type": "code",
   "execution_count": null,
   "metadata": {
    "colab": {
     "base_uri": "https://localhost:8080/",
     "height": 35
    },
    "executionInfo": {
     "elapsed": 10,
     "status": "ok",
     "timestamp": 1761194485155,
     "user": {
      "displayName": "Isabel S Gonzalez-Garcia",
      "userId": "01238087311006006760"
     },
     "user_tz": 300
    },
    "id": "5SXRd0NZ2SUA",
    "outputId": "4ce2c7f6-eb76-4948-a5d8-29798b734fc8"
   },
   "outputs": [],
   "source": [
    "node.demand_timeseries_list[0].pattern_name"
   ]
  },
  {
   "cell_type": "code",
   "execution_count": null,
   "metadata": {
    "colab": {
     "base_uri": "https://localhost:8080/"
    },
    "executionInfo": {
     "elapsed": 4,
     "status": "ok",
     "timestamp": 1761194485547,
     "user": {
      "displayName": "Isabel S Gonzalez-Garcia",
      "userId": "01238087311006006760"
     },
     "user_tz": 300
    },
    "id": "NA5p237g2SUC",
    "outputId": "05a9f85f-c8c9-46f5-bffd-11d8de228626"
   },
   "outputs": [],
   "source": [
    "# store node ID\n",
    "selected_node = node.name\n",
    "print(selected_node)"
   ]
  },
  {
   "cell_type": "code",
   "execution_count": null,
   "metadata": {
    "colab": {
     "base_uri": "https://localhost:8080/"
    },
    "executionInfo": {
     "elapsed": 10,
     "status": "ok",
     "timestamp": 1761194486090,
     "user": {
      "displayName": "Isabel S Gonzalez-Garcia",
      "userId": "01238087311006006760"
     },
     "user_tz": 300
    },
    "id": "V852xQ1Q2SUC",
    "outputId": "5e5f46aa-58c8-4711-a976-bf3a147eb91b"
   },
   "outputs": [],
   "source": [
    "# get tank list\n",
    "print(\"Tank names\", wn.tank_name_list)\n",
    "\n",
    "# get pump list\n",
    "print(\"Pump names\", wn.pump_name_list)"
   ]
  },
  {
   "cell_type": "code",
   "execution_count": null,
   "metadata": {
    "colab": {
     "base_uri": "https://localhost:8080/",
     "height": 35
    },
    "executionInfo": {
     "elapsed": 5,
     "status": "ok",
     "timestamp": 1761194487873,
     "user": {
      "displayName": "Isabel S Gonzalez-Garcia",
      "userId": "01238087311006006760"
     },
     "user_tz": 300
    },
    "id": "fGM0OLKK2SUD",
    "outputId": "b6179358-409c-4db1-86c5-09091ac49436"
   },
   "outputs": [],
   "source": [
    "# let's use tank '1' and pump '10'\n",
    "tank = wn.tank_name_list[0]\n",
    "tank"
   ]
  },
  {
   "cell_type": "code",
   "execution_count": null,
   "metadata": {
    "colab": {
     "base_uri": "https://localhost:8080/",
     "height": 35
    },
    "executionInfo": {
     "elapsed": 5,
     "status": "ok",
     "timestamp": 1761194488025,
     "user": {
      "displayName": "Isabel S Gonzalez-Garcia",
      "userId": "01238087311006006760"
     },
     "user_tz": 300
    },
    "id": "T4BcIERH2SUD",
    "outputId": "d5a7e57c-f029-477b-df91-392c716470db"
   },
   "outputs": [],
   "source": [
    "pump = wn.pump_name_list[0]\n",
    "pump"
   ]
  },
  {
   "cell_type": "code",
   "execution_count": null,
   "metadata": {
    "executionInfo": {
     "elapsed": 2,
     "status": "ok",
     "timestamp": 1761194488919,
     "user": {
      "displayName": "Isabel S Gonzalez-Garcia",
      "userId": "01238087311006006760"
     },
     "user_tz": 300
    },
    "id": "4b68q_xs2SUE"
   },
   "outputs": [],
   "source": [
    "# get base results\n",
    "\n",
    "# base results: pressure, demand, tank, pump\n",
    "results_demand_base = results_base.node['demand'][selected_node]*units # we use results_base because that is the name we gave to our results variable\n",
    "results_pressure_base = results_base.node['pressure'][selected_node]\n",
    "results_tank_base = results_base.node['pressure'][tank]\n",
    "results_pump_base = results_base.link['flowrate'][pump]*units\n",
    "time_hours = results_pressure_base.index / 3600  # Convert seconds to hours\n"
   ]
  },
  {
   "cell_type": "code",
   "execution_count": null,
   "metadata": {
    "colab": {
     "base_uri": "https://localhost:8080/",
     "height": 458
    },
    "executionInfo": {
     "elapsed": 15,
     "status": "ok",
     "timestamp": 1761194666030,
     "user": {
      "displayName": "Isabel S Gonzalez-Garcia",
      "userId": "01238087311006006760"
     },
     "user_tz": 300
    },
    "id": "eByzXPGO2SUE",
    "outputId": "76645db9-62fd-4edc-a7c4-75a1629826b9"
   },
   "outputs": [],
   "source": [
    "results_demand_base"
   ]
  },
  {
   "cell_type": "markdown",
   "metadata": {
    "id": "gS7MlMSc2SUE"
   },
   "source": [
    "## Update demand, run new simulation, and compare results"
   ]
  },
  {
   "cell_type": "code",
   "execution_count": null,
   "metadata": {
    "colab": {
     "base_uri": "https://localhost:8080/"
    },
    "executionInfo": {
     "elapsed": 12,
     "status": "ok",
     "timestamp": 1761194874799,
     "user": {
      "displayName": "Isabel S Gonzalez-Garcia",
      "userId": "01238087311006006760"
     },
     "user_tz": 300
    },
    "id": "_8iiNNl52SUE",
    "outputId": "851095f0-d473-4377-e2fd-62bf53290853"
   },
   "outputs": [],
   "source": [
    "# get base demand\n",
    "base_demand = node.demand_timeseries_list[0].base_value\n",
    "print(base_demand)"
   ]
  },
  {
   "cell_type": "code",
   "execution_count": null,
   "metadata": {
    "colab": {
     "base_uri": "https://localhost:8080/"
    },
    "executionInfo": {
     "elapsed": 43,
     "status": "ok",
     "timestamp": 1761194890913,
     "user": {
      "displayName": "Isabel S Gonzalez-Garcia",
      "userId": "01238087311006006760"
     },
     "user_tz": 300
    },
    "id": "08LMcrTb2SUE",
    "outputId": "b91f8464-c763-4784-ba8d-40fc68b3093a"
   },
   "outputs": [],
   "source": [
    "# generate random number between 0.5 to 1.5\n",
    "multiplier = np.random.uniform(0.5, 1.5)\n",
    "print(multiplier)"
   ]
  },
  {
   "cell_type": "code",
   "execution_count": null,
   "metadata": {
    "colab": {
     "base_uri": "https://localhost:8080/"
    },
    "executionInfo": {
     "elapsed": 4,
     "status": "ok",
     "timestamp": 1761194903322,
     "user": {
      "displayName": "Isabel S Gonzalez-Garcia",
      "userId": "01238087311006006760"
     },
     "user_tz": 300
    },
    "id": "cFTOZgXz2SUE",
    "outputId": "d2fbf91c-6d08-4df8-bb12-0ba364cbb4c8"
   },
   "outputs": [],
   "source": [
    "# update demand\n",
    "node.demand_timeseries_list[0].base_value = base_demand*multiplier\n",
    "print(node.demand_timeseries_list[0].base_value)"
   ]
  },
  {
   "cell_type": "code",
   "execution_count": null,
   "metadata": {
    "executionInfo": {
     "elapsed": 82,
     "status": "ok",
     "timestamp": 1761194905524,
     "user": {
      "displayName": "Isabel S Gonzalez-Garcia",
      "userId": "01238087311006006760"
     },
     "user_tz": 300
    },
    "id": "NNdSKsNN2SUE"
   },
   "outputs": [],
   "source": [
    "# run new simulation\n",
    "sim = wntr.sim.EpanetSimulator(wn)\n",
    "results = sim.run_sim()"
   ]
  },
  {
   "cell_type": "code",
   "execution_count": null,
   "metadata": {
    "executionInfo": {
     "elapsed": 8,
     "status": "ok",
     "timestamp": 1761195035384,
     "user": {
      "displayName": "Isabel S Gonzalez-Garcia",
      "userId": "01238087311006006760"
     },
     "user_tz": 300
    },
    "id": "NzANz_hJ2SUE"
   },
   "outputs": [],
   "source": [
    "# get new results\n",
    "\n",
    "# new results: pressure, demand, tank, pump\n",
    "results_demand_new = results.node['demand'][selected_node]*units\n",
    "results_pressure_new = results.node['pressure'][selected_node]\n",
    "results_tank_new = results.node['pressure'][tank]\n",
    "results_pump_new = results.link['flowrate'][pump]*units\n"
   ]
  },
  {
   "cell_type": "code",
   "execution_count": null,
   "metadata": {
    "colab": {
     "base_uri": "https://localhost:8080/",
     "height": 241
    },
    "executionInfo": {
     "elapsed": 5,
     "status": "ok",
     "timestamp": 1761195036575,
     "user": {
      "displayName": "Isabel S Gonzalez-Garcia",
      "userId": "01238087311006006760"
     },
     "user_tz": 300
    },
    "id": "MieeLV6O2SUF",
    "outputId": "bf26b5dc-7b2d-4cbf-d640-f9a8ca7b4050"
   },
   "outputs": [],
   "source": [
    "results_demand_base.head()"
   ]
  },
  {
   "cell_type": "code",
   "execution_count": null,
   "metadata": {
    "colab": {
     "base_uri": "https://localhost:8080/",
     "height": 241
    },
    "executionInfo": {
     "elapsed": 2,
     "status": "ok",
     "timestamp": 1761195043064,
     "user": {
      "displayName": "Isabel S Gonzalez-Garcia",
      "userId": "01238087311006006760"
     },
     "user_tz": 300
    },
    "id": "awOLx-3P2SUF",
    "outputId": "927d4ec7-b156-470b-e27c-7b74863c4706"
   },
   "outputs": [],
   "source": [
    "results_demand_new.head()"
   ]
  },
  {
   "cell_type": "code",
   "execution_count": null,
   "metadata": {
    "colab": {
     "base_uri": "https://localhost:8080/",
     "height": 472
    },
    "executionInfo": {
     "elapsed": 223,
     "status": "ok",
     "timestamp": 1761195528757,
     "user": {
      "displayName": "Isabel S Gonzalez-Garcia",
      "userId": "01238087311006006760"
     },
     "user_tz": 300
    },
    "id": "SkiCwxTd2SUF",
    "outputId": "fc9c85fc-2e89-446d-c496-d6996eae236f"
   },
   "outputs": [],
   "source": [
    "# Make some plots\n",
    "\n",
    "# demand\n",
    "plt.plot(time_hours, results_demand_base, color='gray', linewidth = 1, alpha = 0.5)\n",
    "plt.plot(time_hours, results_demand_new, color='blue', linewidth = 1, alpha = 0.5)\n",
    "# Formatting the plot\n",
    "plt.xlabel('Time (hours)')\n",
    "plt.ylabel('Demand (gpm)')\n",
    "plt.title('Demand at node ' + selected_node)\n",
    "plt.legend(['base','new'], loc='best') # labels are assigned based on the order that you plot them\n",
    "plt.show()\n"
   ]
  },
  {
   "cell_type": "code",
   "execution_count": null,
   "metadata": {
    "colab": {
     "base_uri": "https://localhost:8080/",
     "height": 472
    },
    "executionInfo": {
     "elapsed": 377,
     "status": "ok",
     "timestamp": 1761173315967,
     "user": {
      "displayName": "Isabel S Gonzalez-Garcia",
      "userId": "01238087311006006760"
     },
     "user_tz": 300
    },
    "id": "T_iuVRlh2SUF",
    "outputId": "c684ef42-19ee-47c1-d7db-e295e51465e9"
   },
   "outputs": [],
   "source": [
    "# pressure\n",
    "plt.plot(time_hours, results_pressure_base, color='gray', linewidth = 1, alpha = 0.5)\n",
    "plt.plot(time_hours, results_pressure_new, color='blue', linewidth = 1, alpha = 0.5)\n",
    "# Formatting the plot\n",
    "plt.xlabel('Time (hours)')\n",
    "plt.ylabel('Pressure head (m)')\n",
    "plt.title('Pressure at node ' + selected_node)\n",
    "plt.legend({'base','new'}, loc='best')\n",
    "plt.show()"
   ]
  },
  {
   "cell_type": "code",
   "execution_count": null,
   "metadata": {
    "colab": {
     "base_uri": "https://localhost:8080/",
     "height": 472
    },
    "executionInfo": {
     "elapsed": 305,
     "status": "ok",
     "timestamp": 1761173323414,
     "user": {
      "displayName": "Isabel S Gonzalez-Garcia",
      "userId": "01238087311006006760"
     },
     "user_tz": 300
    },
    "id": "iTMVrfeY2SUF",
    "outputId": "3b50a833-6da2-407a-d566-91ef25cf6868"
   },
   "outputs": [],
   "source": [
    "# tank\n",
    "plt.plot(time_hours, results_tank_base, color='gray', linewidth = 1, alpha = 0.5)\n",
    "plt.plot(time_hours, results_tank_new, color='blue', linewidth = 1, alpha = 0.5)\n",
    "# Formatting the plot\n",
    "plt.xlabel('Time (hours)')\n",
    "plt.ylabel('Water level (m)')\n",
    "plt.title('Water level tank ' + tank)\n",
    "plt.legend({'base','new'}, loc='best')\n",
    "plt.show()"
   ]
  },
  {
   "cell_type": "code",
   "execution_count": null,
   "metadata": {
    "colab": {
     "base_uri": "https://localhost:8080/",
     "height": 472
    },
    "executionInfo": {
     "elapsed": 208,
     "status": "ok",
     "timestamp": 1761173324691,
     "user": {
      "displayName": "Isabel S Gonzalez-Garcia",
      "userId": "01238087311006006760"
     },
     "user_tz": 300
    },
    "id": "QVrU0_oD2SUF",
    "outputId": "fe8d8837-0742-4d0a-bf55-73619f4ea255"
   },
   "outputs": [],
   "source": [
    "# pump\n",
    "plt.plot(time_hours, results_pump_base, color='gray', linewidth = 1, alpha = 0.5)\n",
    "plt.plot(time_hours, results_pump_new, color='blue', linewidth = 1, alpha = 0.5)\n",
    "# Formatting the plot\n",
    "plt.xlabel('Time (hours)')\n",
    "plt.ylabel('Flow (gpm)')\n",
    "plt.title('Pump flow ' + pump)\n",
    "plt.legend({'base','new'}, loc='best')\n",
    "plt.show()"
   ]
  },
  {
   "cell_type": "markdown",
   "metadata": {
    "id": "ihNrBQA42SUG"
   },
   "source": [
    "**Additional notes:**\n",
    "Next, you can use the loops we covered last time, change demands at all nodes, and see the impact of uncertainty in demand"
   ]
  },
  {
   "cell_type": "code",
   "execution_count": null,
   "metadata": {
    "executionInfo": {
     "elapsed": 12,
     "status": "ok",
     "timestamp": 1761173332262,
     "user": {
      "displayName": "Isabel S Gonzalez-Garcia",
      "userId": "01238087311006006760"
     },
     "user_tz": 300
    },
    "id": "RLHaMCFe2SUG"
   },
   "outputs": [],
   "source": []
  }
 ],
 "metadata": {
  "colab": {
   "provenance": []
  },
  "kernelspec": {
   "display_name": "Python 3 (ipykernel)",
   "language": "python",
   "name": "python3"
  },
  "language_info": {
   "codemirror_mode": {
    "name": "ipython",
    "version": 3
   },
   "file_extension": ".py",
   "mimetype": "text/x-python",
   "name": "python",
   "nbconvert_exporter": "python",
   "pygments_lexer": "ipython3",
   "version": "3.9.21"
  },
  "toc-autonumbering": true,
  "vscode": {
   "interpreter": {
    "hash": "45e5fc2add644b17ca9d771f06d4d0791b1baf8fc0ad9b13d75afaf563ce7ce4"
   }
  }
 },
 "nbformat": 4,
 "nbformat_minor": 4
}
